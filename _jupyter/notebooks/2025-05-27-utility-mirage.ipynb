{
 "cells": [
  {
   "cell_type": "raw",
   "id": "95ef0786-f994-4b9f-be66-44fa3a33915d",
   "metadata": {},
   "source": [
    "---\n",
    "layout: article\n",
    "title: The Illusion of Simplicity - How Limited Options Distort Utility\n",
    "custom_css: article.css\n",
    "include_mathjax: true\n",
    "---"
   ]
  },
  {
   "cell_type": "markdown",
   "id": "f06d1a96-9c57-460e-a4e6-5da8c0ec16ce",
   "metadata": {},
   "source": [
    "## Introduction\n",
    "Imagine you are facing a choice between three options in a game, a business decision, or even your lunch menu. You evaluate them using a utility function like:\n",
    "\n",
    "$$\n",
    "U = \\frac{A \\cdot B}{C \\cdot D}\n",
    "$$\n",
    "\n",
    "Where each variable represents a meaningful factor:\n",
    "\n",
    "* **A**: benefit (e.g. points gained, profit, flavor)\n",
    "* **B**: bonus multiplier (e.g. synergy, customer satisfaction)\n",
    "* **C**: cost\n",
    "* **D**: difficulty or risk\n",
    "\n",
    "Here is your set of options:\n",
    "\n",
    "| Option | A (Benefit) | B (Bonus) | C (Cost) | D (Difficulty) | Utility $U = \\frac{AB}{CD}$        |\n",
    "| ------ | ----------- | --------- | -------- | -------------- | ---------------------------------- |\n",
    "| 1      | 10          | **2**     | 5        | **1**          | $\\frac{10 \\cdot 2}{5 \\cdot 1} = 4$ |\n",
    "| 2      | 9           | **2**     | 3        | **1**          | $\\frac{9 \\cdot 2}{3 \\cdot 1} = 6$  |\n",
    "| 3      | 12          | **2**     | 8        | **1**          | $\\frac{12 \\cdot 2}{8 \\cdot 1} = 3$ |\n",
    "\n",
    "Now observe: even though $B = 2$ and $D = 1$ for every option, the utility values still differ, because $A$ and $C$ vary. But because $B$ and $D$ are **constant**, we can simplify the function:\n",
    "\n",
    "$$\n",
    "U = \\frac{A \\cdot 2}{C \\cdot 1} = 2 \\cdot \\left(\\frac{A}{C}\\right)\n",
    "$$\n",
    "\n",
    "Since the multiplier (i.e. [scalar](https://en.wikipedia.org/wiki/Scalar_(mathematics))) $2$ is the same for every option, it does not affect *which option is best*. So you can mentally reduce the utility to:\n",
    "\n",
    "$$\n",
    "\\text{Effective comparison: } U = \\frac{A}{C}\n",
    "$$\n",
    "\n",
    "Now your decision *feels* simpler: you are just comparing benefit-to-cost ratios, even though the original function was more complex.\n",
    "\n",
    "But here is the key insight:"
   ]
  },
  {
   "cell_type": "code",
   "execution_count": null,
   "id": "b3509436-f684-4209-9ca9-587cd94bc6fd",
   "metadata": {
    "editable": true,
    "execution": {
     "iopub.execute_input": "2025-06-08T20:45:44.997524Z",
     "iopub.status.busy": "2025-06-08T20:45:44.997351Z",
     "iopub.status.idle": "2025-06-08T20:45:45.002786Z",
     "shell.execute_reply": "2025-06-08T20:45:45.002334Z"
    },
    "slideshow": {
     "slide_type": ""
    },
    "tags": [
     "remove_input"
    ]
   },
   "outputs": [],
   "source": [
    "import textwrap\n",
    "\n",
    "# set maximum line length\n",
    "MAX_TXT_LENGTH = 80\n",
    "\n",
    "# print\n",
    "key_insight = \"The available options create a local illusion of simplicity by flattening the utility landscape.\"\n",
    "print(textwrap.fill(key_insight, width=MAX_TXT_LENGTH))"
   ]
  },
  {
   "cell_type": "markdown",
   "id": "59ee95f9-9b78-4df7-af06-e7e20ecac12f",
   "metadata": {},
   "source": [
    "This *illusion of simplicity* happens when the set of options **lacks variability** across certain dimensions. You are not making a simpler decision because the world got easier — you are just looking at a flatter part of it."
   ]
  },
  {
   "cell_type": "markdown",
   "id": "54ca893a-78c7-466f-af50-ab8bd3a96433",
   "metadata": {},
   "source": [
    "## Local Simplicity vs Global Complexity\n",
    "What you have encountered is a phenomenon we might call **local utility flattening**. The full utility function still depends on four variables. But in your current **local context**, some of those variables are not changing, so they **drop out of your attention**.\n",
    "\n",
    "This gives the illusion that the decision is simpler or that only some factors *\"matter.\"* But it is only because the other variables are currently **not offering any contrast**.\n",
    "\n",
    "If tomorrow, new options appear where $B$ or $D$ vary wildly, you will suddenly need to re-engage with the full complexity of the utility function again."
   ]
  },
  {
   "cell_type": "markdown",
   "id": "1bbd9e90-f5db-42d2-b71c-2f858ebbe320",
   "metadata": {},
   "source": [
    "## The Psychology of Constrained Choice\n",
    "This illusion of simplicity has real *psychological effects*:\n",
    "\n",
    "* **Cognitive ease**: Fewer active variables makes the choice feel simpler and faster.\n",
    "  <br><br>\n",
    "* **Overconfidence**: Decision-makers may assume they *\"understand the system,\"* when they are really just operating in a *low-contrast* **slice** of it.\n",
    "  <br><br>\n",
    "* **Misattribution**: The simplicity is mistaken as a trait of the system, not the context."
   ]
  },
  {
   "cell_type": "markdown",
   "id": "c43842ba-298f-423b-81fa-9d547fa91cc6",
   "metadata": {},
   "source": [
    "## Moral\n",
    "Always remember:"
   ]
  },
  {
   "cell_type": "code",
   "execution_count": null,
   "id": "cbeeb8cd-42ae-49f5-b089-fc1cfdc1fcd5",
   "metadata": {
    "editable": true,
    "execution": {
     "iopub.execute_input": "2025-06-08T20:45:45.005000Z",
     "iopub.status.busy": "2025-06-08T20:45:45.004826Z",
     "iopub.status.idle": "2025-06-08T20:45:45.007582Z",
     "shell.execute_reply": "2025-06-08T20:45:45.007213Z"
    },
    "slideshow": {
     "slide_type": ""
    },
    "tags": [
     "remove_input"
    ]
   },
   "outputs": [],
   "source": [
    "# print\n",
    "narrow_var = \"A utility function only simplifies when you narrow the space of variation\"\n",
    "print(textwrap.fill(narrow_var, width=MAX_TXT_LENGTH))"
   ]
  },
  {
   "cell_type": "markdown",
   "id": "499493a8-86de-4e1b-90c7-3004048520a3",
   "metadata": {},
   "source": [
    "That simplification is not *\"real\"* in the global sense — it is a *local phenomenon*. And mistaking a local simplification for a structural one can lead to flawed strategies or design choices.\n",
    "\n",
    "In life, games, and systems thinking:"
   ]
  },
  {
   "cell_type": "code",
   "execution_count": null,
   "id": "71f13d79-457d-48d1-85dd-cf160f75dbac",
   "metadata": {
    "editable": true,
    "execution": {
     "iopub.execute_input": "2025-06-08T20:45:45.009582Z",
     "iopub.status.busy": "2025-06-08T20:45:45.009406Z",
     "iopub.status.idle": "2025-06-08T20:45:45.012216Z",
     "shell.execute_reply": "2025-06-08T20:45:45.011748Z"
    },
    "slideshow": {
     "slide_type": ""
    },
    "tags": [
     "remove_input"
    ]
   },
   "outputs": [],
   "source": [
    "# print\n",
    "temp_flat = \"What seems simple might just be temporarily flat.\"\n",
    "print(textwrap.fill(temp_flat, width=MAX_TXT_LENGTH))"
   ]
  }
 ],
 "metadata": {
  "kernelspec": {
   "display_name": "Python 3 (ipykernel)",
   "language": "python",
   "name": "python3"
  },
  "language_info": {
   "codemirror_mode": {
    "name": "ipython",
    "version": 3
   },
   "file_extension": ".py",
   "mimetype": "text/x-python",
   "name": "python",
   "nbconvert_exporter": "python",
   "pygments_lexer": "ipython3",
   "version": "3.11.8"
  }
 },
 "nbformat": 4,
 "nbformat_minor": 5
}
