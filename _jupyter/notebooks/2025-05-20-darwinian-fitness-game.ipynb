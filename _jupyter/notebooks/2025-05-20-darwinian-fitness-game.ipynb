{
 "cells": [
  {
   "cell_type": "raw",
   "id": "154b81ff-d69e-447d-98a0-bb47033442c8",
   "metadata": {},
   "source": [
    "---\n",
    "layout: article\n",
    "title: Survival of the Fittest - The Ultimate Game of Life\n",
    "custom_css: article.css\n",
    "include_mathjax: true\n",
    "---"
   ]
  },
  {
   "cell_type": "markdown",
   "id": "8ff22c6f-b3d8-414b-b16a-53d1326f4c27",
   "metadata": {
    "jp-MarkdownHeadingCollapsed": true
   },
   "source": [
    "## Introduction\n",
    "From [Conway’s elegant Game of Life](https://en.wikipedia.org/wiki/Conway%27s_Game_of_Life) to [Hasbro’s symbolic board game](https://en.wikipedia.org/wiki/The_Game_of_Life), \"life\" has long been the subject of abstract simulation. In this article we proposes a new game, **Survival of the Fittest**, grounded not in entertainment or [cellular automata](https://en.wikipedia.org/wiki/Cellular_automaton), but in the biological imperatives that shape all living systems: survival and reproduction."
   ]
  },
  {
   "cell_type": "markdown",
   "id": "7f9431e0-1821-49dd-bac1-7e480890be30",
   "metadata": {},
   "source": [
    "## The Cost of Living\n",
    "To model the game of life, we must first ask: What do organisms need in order to survive, thrive, and reproduce? What resources do they pursue, and how do these shape their behaviors?\n",
    "\n",
    "At a minimum, every living system depends on a combination of critical inputs - energy, water, shelter, safety, and, eventually, access to mates. These needs are not arbitrary; they reflect universal constraints that any organism must navigate in order to persist in its environment.\n",
    "\n",
    "These survival requirements are not reducible to a single objective. Rather:"
   ]
  },
  {
   "cell_type": "code",
   "execution_count": null,
   "id": "4b99a87d-9d9a-40a7-ba72-c4f45e60197c",
   "metadata": {
    "editable": true,
    "slideshow": {
     "slide_type": ""
    },
    "tags": [
     "remove_input"
    ]
   },
   "outputs": [],
   "source": [
    "print(\"Organisms must simultaneously manage multiple forms of scarcity.\")"
   ]
  },
  {
   "cell_type": "markdown",
   "id": "3f5676f2-0e09-4e22-8d81-afade07c5e59",
   "metadata": {},
   "source": [
    "## Fitness Defined\n",
    "In our Survival of the Fittest game, this motivates a more expressive and flexible formalism: fitness as a multi-dimensional vector, where each dimension tracks how well an organism is doing in a particular domain relevant to survival or reproduction.\n",
    "\n",
    "This leads us to a powerful mathematical abstraction: representing fitness as a [utility vector](https://diogenesanalytics.com/blog/2025/04/20/defining-advantage#multiple-option-types), with each dimension capturing the value gained by securing a specific resource or advantage critical to survival and reproduction:\n",
    "\n",
    "$$\n",
    "\\mathbf{F} = \\begin{bmatrix}\n",
    "u_1 \\\\\n",
    "u_2 \\\\\n",
    "\\vdots \\\\\n",
    "u_n\n",
    "\\end{bmatrix}\n",
    "$$\n",
    "\n",
    "where each component $u_i$ corresponds to the utility gained from a particular resource or advantage critical to survival and reproduction. For example:\n",
    "\n",
    "* Quantity of energy reserves (from food)\n",
    "* Access to water\n",
    "* Quality of shelter\n",
    "* Size and control of territory\n",
    "* Mating opportunities and success\n",
    "* etc ...\n",
    "\n",
    "The **overall fitness** is often modeled as the weighted sum of these utilities:\n",
    "\n",
    "$$\n",
    "\\text{Fitness} = \\sum_{i=1}^{n} w_i \\, u_i\n",
    "$$\n",
    "\n",
    "where weights $w_i \\geq 0$ represent the relative importance of each utility dimension in the organism’s environment and evolutionary context.\n",
    "\n",
    "This formalism allows us to capture the trade-offs and priorities organisms must balance: maximizing one utility may reduce another, reflecting the complex strategies needed for survival and reproduction."
   ]
  }
 ],
 "metadata": {
  "kernelspec": {
   "display_name": "Python 3 (ipykernel)",
   "language": "python",
   "name": "python3"
  },
  "language_info": {
   "codemirror_mode": {
    "name": "ipython",
    "version": 3
   },
   "file_extension": ".py",
   "mimetype": "text/x-python",
   "name": "python",
   "nbconvert_exporter": "python",
   "pygments_lexer": "ipython3",
   "version": "3.11.8"
  }
 },
 "nbformat": 4,
 "nbformat_minor": 5
}
