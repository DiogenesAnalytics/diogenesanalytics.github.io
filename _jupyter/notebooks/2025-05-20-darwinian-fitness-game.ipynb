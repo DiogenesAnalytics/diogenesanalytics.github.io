{
 "cells": [
  {
   "cell_type": "raw",
   "id": "154b81ff-d69e-447d-98a0-bb47033442c8",
   "metadata": {},
   "source": [
    "---\n",
    "layout: article\n",
    "title: Survival of the Fittest - The Ultimate Game of Life\n",
    "custom_css: article.css\n",
    "include_mathjax: true\n",
    "---"
   ]
  },
  {
   "cell_type": "markdown",
   "id": "8ff22c6f-b3d8-414b-b16a-53d1326f4c27",
   "metadata": {
    "jp-MarkdownHeadingCollapsed": true
   },
   "source": [
    "## Introduction\n",
    "From [Conway’s elegant Game of Life](https://en.wikipedia.org/wiki/Conway%27s_Game_of_Life) to [Hasbro’s symbolic board game](https://en.wikipedia.org/wiki/The_Game_of_Life), \"life\" has long been the subject of abstract simulation. In this article we proposes a new game, **Survival of the Fittest**, grounded not in entertainment or [cellular automata](https://en.wikipedia.org/wiki/Cellular_automaton), but in the biological imperatives that shape all living systems: survival and reproduction."
   ]
  },
  {
   "cell_type": "markdown",
   "id": "7f9431e0-1821-49dd-bac1-7e480890be30",
   "metadata": {},
   "source": [
    "## The Cost of Living\n",
    "To model the game of life, we must first ask: What do organisms need in order to survive, thrive, and reproduce? What resources do they pursue, and how do these shape their behaviors?\n",
    "\n",
    "At a minimum, every living system depends on a combination of critical inputs - energy, water, shelter, safety, and, eventually, access to mates. These needs are not arbitrary; they reflect universal *needs* that any organism must navigate in order to persist in its environment.\n",
    "\n",
    "These survival requirements are not reducible to a single objective. Rather:"
   ]
  },
  {
   "cell_type": "code",
   "execution_count": null,
   "id": "4b99a87d-9d9a-40a7-ba72-c4f45e60197c",
   "metadata": {
    "editable": true,
    "slideshow": {
     "slide_type": ""
    },
    "tags": [
     "remove_input"
    ]
   },
   "outputs": [],
   "source": [
    "print(\"Organisms must simultaneously manage multiple forms of scarcity.\")"
   ]
  },
  {
   "cell_type": "markdown",
   "id": "3f5676f2-0e09-4e22-8d81-afade07c5e59",
   "metadata": {},
   "source": [
    "## Fitness Defined\n",
    "In our Survival of the Fittest game, we can then think of fitness as a [vector](https://en.wikipedia.org/wiki/Vector_(mathematics_and_physics)), where each dimension tracks how well an organism is doing in a particular domain relevant to survival or reproduction. This leads us to a powerful mathematical abstraction: representing fitness as a [utility vector](https://diogenesanalytics.com/blog/2025/04/20/defining-advantage#multiple-option-types), with each dimension capturing the current utility *earned* by securing a specific resource or advantage critical to survival and reproduction:\n",
    "\n",
    "$$\n",
    "\\mathbf{F} = \\begin{bmatrix}\n",
    "u_1 \\\\\n",
    "u_2 \\\\\n",
    "\\vdots \\\\\n",
    "u_n\n",
    "\\end{bmatrix}\n",
    "$$\n",
    "\n",
    "These components (i.e. $u_1, u_2, \\dots, u_n$) could be anything. But as an example here are some possible choices:\n",
    "\n",
    "* Quantity of energy reserves (from food)\n",
    "* Access to water\n",
    "* Quality of shelter\n",
    "* Size and control of territory\n",
    "* Mating opportunities and success\n",
    "* etc ...\n",
    "\n",
    "The **overall fitness** is simply the weighted sum of these utilities, which represents the *total utility* or *fitness utility* $U_f$:\n",
    "\n",
    "$$\n",
    "U_f = w \\cdot F = \\sum_{i=1}^n w_i \\cdot u_i\n",
    "$$\n",
    "\n",
    "where weights $w_i \\geq 0$ represent the relative importance of each utility dimension in the organism's environment and evolutionary context (this can by default simply be $w_i = 1$)."
   ]
  },
  {
   "cell_type": "markdown",
   "id": "4d28a265-5b55-46a2-86b7-4dc8a24055c5",
   "metadata": {},
   "source": [
    "## The Goal of Life\n",
    "Now with *fitness* defined as a *utility vector* $F$ the actual *\"goal\"* of the game can be defined very simply:\n",
    "\n",
    "$$\n",
    "\\max_{\\pi} \\; U_f(\\pi)\n",
    "$$\n",
    "\n",
    "where:\n",
    "\n",
    "* $\\pi$ is the **policy** (aka *strategy*) the organism follows.\n",
    "* $U_f(\\pi)$ is the fitness utility resulting from that strategy.\n",
    "\n",
    "In other words the **goal** is to maximize the *fitness utility* $U_f$."
   ]
  },
  {
   "cell_type": "markdown",
   "id": "1e2864be-cdd8-4990-8ac4-a45d183fdd03",
   "metadata": {},
   "source": [
    "## A Hierarchy of Needs\n",
    "So organisms are ultimately seeking to improve their *strategy* $\\pi$ (what is often called a **policy**) in order to maximize $U_f$. This tells us *what* the players in the game are trying to achieve.\n",
    "\n",
    "But it does **not** yet tell us *how* to think about good strategies.\n",
    "\n",
    "What *constraints* shape the order in which different utilities can be pursued? How do organisms allocate effort across competing needs?\n",
    "\n",
    "A useful starting point comes from a familiar framework in psychological theory: [Maslow's Hierarchy of Needs](https://en.wikipedia.org/wiki/Maslow%27s_hierarchy_of_needs). Though originally developed to describe human motivation, Maslow’s core insight is far more general:"
   ]
  },
  {
   "cell_type": "code",
   "execution_count": null,
   "id": "90ba5f7b-ee8a-496d-91eb-b41b54aee21d",
   "metadata": {
    "editable": true,
    "slideshow": {
     "slide_type": ""
    },
    "tags": [
     "remove_input"
    ]
   },
   "outputs": [],
   "source": [
    "print(\"Certain needs must be satisfied before others can be meaningfully pursued.\")"
   ]
  },
  {
   "cell_type": "markdown",
   "id": "17200bca-cf98-4b25-971d-73dc1c2c9f1a",
   "metadata": {},
   "source": [
    "This hierarchy reflects a deep truth about biological systems: **not all resources are equally actionable at all times**. For example, a dehydrated organism will not—and arguably cannot—rationally pursue reproductive opportunities before first securing water."
   ]
  },
  {
   "cell_type": "markdown",
   "id": "3b2cdb5b-a01e-4185-80ab-c8ea5cd4ee76",
   "metadata": {},
   "source": [
    "## Basic Strategy\n",
    "Thus, Maslow's hierarchy can be reinterpreted as a **dependency structure** on fitness components. Instead of treating each fitness dimension as an independent axis, we now recognize that some components of the utility vector are **prerequisites** for others.\n",
    "\n",
    "This transforms our view of strategy:\n",
    "\n",
    "* Organisms are not simply optimizing over a flat space of utility values.\n",
    "* They are navigating a **constrained optimization problem** shaped by the *dependency relationships among needs*.\n",
    "\n",
    "In game-theoretic terms, this implies that the policy $\\pi$ must respect a **partial ordering** of the fitness dimensions in $F = [u_1, u_2, ..., u_n]$.\n",
    "\n",
    "We can represent these constraints as a **graph of prerequisites**, which models the conditional dependencies between need types. For example:\n",
    "\n",
    "```\n",
    "  Energy → Safety → Territory → Mating\n",
    "             ↓\n",
    "          Shelter\n",
    "```\n",
    "\n",
    "This kind of structure imposes a universal scaffolding on all players in the game: **before you can play for higher-order fitness, you must win the lower levels first**.\n",
    "\n",
    "This means not every policy $\\pi$ is valid: only those that **respect the prerequisite relationships** encoded in the dependency graph are admissible.\n",
    "\n",
    "We can formalize this:\n",
    "\n",
    "Let:\n",
    "\n",
    "* $F = [u_1, u_2, \\dots, u_n]$: the fitness utility vector.\n",
    "  <br><br>\n",
    "* $G = (V, E)$: a **directed acyclic graph** (DAG) over the set of needs $V = \\{u_1, u_2, \\dots, u_n\\}$, where $(u_i \\rightarrow u_j) \\in E$ means that utility $u_i$ must be satisfied *before* utility $u_j$ becomes actionable.\n",
    "  <br><br>\n",
    "* $\\Pi$: the space of all possible strategies (policies).\n",
    "  <br><br>\n",
    "* $\\Pi_G \\subseteq \\Pi$: the subset of strategies **admissible under the dependency graph**.\n",
    "\n",
    "Then:\n",
    "\n",
    "$$\n",
    "\\pi^* = \\arg\\max_{\\pi \\in \\Pi_G} U_f(\\pi)\n",
    "$$\n",
    "\n",
    "In words: the optimal policy is the one that **maximizes total fitness utility**, but only among the strategies that **respect the dependency structure** of the *needs graph* $G$.\n",
    "\n",
    "This is no longer a vanilla optimization. It is a **constrained maximization problem**, where the constraint is **structural**: strategies must obey the **causal or functional precedence** encoded in the hierarchy of needs.\n",
    "\n",
    "This reframes the game in a profound way:\n",
    "\n",
    "* The goal is still to **maximize the total fitness utility** $U_f$. That hasn’t changed.\n",
    "  <br><br>\n",
    "* But what *has* changed is our understanding of **how** to reach that maximum.\n",
    "  <br><br>\n",
    "* The components of the fitness vector $F$ are not all equally accessible at all times.\n",
    "  <br><br>\n",
    "* **Some utilities are conditional on others** — you can’t pursue higher-order gains until foundational needs are met.\n",
    "  <br><br>\n",
    "* Therefore, **maximizing $U_f$** requires **finding a policy that respects the dependency graph** $G$ over fitness dimensions."
   ]
  },
  {
   "cell_type": "markdown",
   "id": "b2661941-5c2e-4986-beb2-ac8e9994d62f",
   "metadata": {},
   "source": [
    "## Conclusion\n",
    "The \"Survival of the Fittest\" is not a chaotic scramble for resources, but a highly structured optimization problem. Organisms aren't just maximizing fitness in the abstract — they are doing so under real, biological constraints shaped by interdependent needs. By formalizing fitness as a utility vector and representing dependencies between needs as a directed acyclic graph, we reveal a deeper logic to evolutionary strategy:"
   ]
  },
  {
   "cell_type": "code",
   "execution_count": null,
   "id": "6a47e3c4-04ee-4299-8601-18230dd7678e",
   "metadata": {
    "editable": true,
    "slideshow": {
     "slide_type": ""
    },
    "tags": [
     "remove_input"
    ]
   },
   "outputs": [],
   "source": [
    "print(\"Success in the game of life requires more than maximizing — it requires sequencing.\")"
   ]
  },
  {
   "cell_type": "markdown",
   "id": "fb3447b4-d65d-4605-8cf4-e174adc6bb5c",
   "metadata": {},
   "source": [
    "This reframing has powerful implications. It unites psychological theory (Maslow), evolutionary biology (fitness landscapes), and game theory (policy optimization) into a single mathematical perspective. And it shows that fitness is not merely about acquiring resources, but about acquiring them in the right order, at the right time, under the right constraints.\n",
    "\n",
    "In this light, life becomes a constrained utility-maximization game — one where the optimal strategy must navigate not just scarcity, but structure. If we can model how needs depend on each other (as Maslow’s hierarchy suggests), we may be able to simulate how organisms and agents intelligently adapt, survive, and make decisions in complex environments."
   ]
  }
 ],
 "metadata": {
  "kernelspec": {
   "display_name": "Python 3 (ipykernel)",
   "language": "python",
   "name": "python3"
  },
  "language_info": {
   "codemirror_mode": {
    "name": "ipython",
    "version": 3
   },
   "file_extension": ".py",
   "mimetype": "text/x-python",
   "name": "python",
   "nbconvert_exporter": "python",
   "pygments_lexer": "ipython3",
   "version": "3.11.8"
  }
 },
 "nbformat": 4,
 "nbformat_minor": 5
}
