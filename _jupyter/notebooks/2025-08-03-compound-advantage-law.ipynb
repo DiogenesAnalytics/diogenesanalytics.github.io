{
 "cells": [
  {
   "cell_type": "raw",
   "id": "6576b7e2-5d53-4365-8311-7f4ad2cb1397",
   "metadata": {},
   "source": [
    "---\n",
    "layout: article\n",
    "title: The Compounding Law of Advantage\n",
    "custom_css: article.css\n",
    "include_mathjax: true\n",
    "---"
   ]
  },
  {
   "cell_type": "markdown",
   "id": "22085283-6396-43f2-a421-709386570298",
   "metadata": {},
   "source": [
    "## Introduction\n",
    "We all have an intuitive sense that being in a *\"better\"* position (i.e. having more **advantage**) makes it easier to become even better. A player with a lead can pressure opponents; capital begets more capital; a scientist with early insights gains access to more fruitful experiments. But why does advantage tend to compound? What is the abstract, structural mechanism that makes advantage a self-reinforcing phenomenon across finance, games, evolution, and decision systems?\n",
    "\n",
    "This article starts from a precise definition of advantage (defined in an [earlier article](https://diogenesanalytics.com/blog/2025/04/20/defining-advantage)) and builds to a universal principle: advantage expands the effective option space, which raises expected outcomes while suppressing ruinous variance, creating a multiplicative growth process.\n",
    "\n",
    "In short:\n",
    "\n",
    "> Advantage begets advantage."
   ]
  },
  {
   "cell_type": "markdown",
   "id": "f580e1ab-3325-4178-ba87-9f0be78e08d4",
   "metadata": {},
   "source": [
    "## Defining Advantage\n",
    "In an [earlier article](https://diogenesanalytics.com/blog/2025/04/20/defining-advantage), **advantage** was defined in precise mathematical terms. In its simplest scalar form, the advantage of option $A$ over option $B$ is:\n",
    "\n",
    "$$\n",
    "\\Delta U(A, B) = U(A) - U(B)\n",
    "$$\n",
    "\n",
    "where $U(\\cdot)$ is the utility assigned to an option. A positive value means $A$ is preferable to $B$; a negative value means $A$ is worse.\n",
    "\n",
    "When comparing across multiple different *types* of options - say, investment choices, travel plans, and health strategies - we represent each **option set** $\\mathcal{O}$ as a vector of utilities, one per domain:\n",
    "\n",
    "$$\n",
    "\\mathbf{U}(\\mathcal{O}) =\n",
    "\\begin{bmatrix}\n",
    "U_{\\text{travel}}(O_{\\text{travel}}) \\\\\n",
    "U_{\\text{finance}}(O_{\\text{finance}}) \\\\\n",
    "U_{\\text{health}}(O_{\\text{health}})\n",
    "\\end{bmatrix}\n",
    "$$\n",
    "\n",
    "Here, each component is the utility of the option chosen in that domain.\n",
    "\n",
    "The **advantage vector** between two such sets $\\mathcal{O}_1$ and $\\mathcal{O}_2$ is:\n",
    "\n",
    "$$\n",
    "\\Delta \\mathbf{U} = \\mathbf{U}(\\mathcal{O}_1) - \\mathbf{U}(\\mathcal{O}_2)\n",
    "$$\n",
    "\n",
    "To collapse this into a single scalar for decision-making, we apply a **weighting vector** $\\mathbf{w}$ that reflects the relative importance of each domain:\n",
    "\n",
    "$$\n",
    "\\text{Adv}(\\mathcal{O}_1, \\mathcal{O}_2) = \\mathbf{w}^\\top \\Delta \\mathbf{U}\n",
    "$$\n",
    "\n",
    "This definition works equally well for abstract decision-making and for evaluating *positions* in games: advantage is the expected difference in utility between your current position $P$ and some alternative position $Q$:\n",
    "\n",
    "$$\n",
    "\\text{Adv}(P, Q) = \\mathbb{E}[U(P)] - \\mathbb{E}[U(Q)]\n",
    "$$\n",
    "\n",
    "Here, $P$ and $Q$ represent possible states or positions from which different future outcomes - and thus utilities - can unfold."
   ]
  }
 ],
 "metadata": {
  "kernelspec": {
   "display_name": "Python 3 (ipykernel)",
   "language": "python",
   "name": "python3"
  },
  "language_info": {
   "codemirror_mode": {
    "name": "ipython",
    "version": 3
   },
   "file_extension": ".py",
   "mimetype": "text/x-python",
   "name": "python",
   "nbconvert_exporter": "python",
   "pygments_lexer": "ipython3",
   "version": "3.11.8"
  }
 },
 "nbformat": 4,
 "nbformat_minor": 5
}
