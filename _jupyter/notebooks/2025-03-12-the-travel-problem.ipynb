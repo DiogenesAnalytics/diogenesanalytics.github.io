{
 "cells": [
  {
   "cell_type": "raw",
   "id": "46ae9238-43a2-477e-bf22-3f4812a5bac6",
   "metadata": {},
   "source": [
    "---\n",
    "layout: article\n",
    "title: The Travel Problem\n",
    "custom_css: article.css\n",
    "include_mathjax: true\n",
    "---"
   ]
  },
  {
   "cell_type": "markdown",
   "id": "d7aaee8b-200e-449c-80e0-ee12338912f6",
   "metadata": {},
   "source": [
    "## Introduction\n",
    "In this article we will discuss a very common *decision problem*: how best to travel from a starting point `A` to some target destination `Z` in the *\"best\"* manner possible. Of course, as we previously discussed in the [last article](https://diogenesanalytics.com/blog/2025/02/26/reasoning-about-utility), it is the *utility* that must be defined in order to *quantitatively* define what is best. The majority of the article will present the *mathematical* definition of the utility function $U(x)$ for the *travel problem*, as well as the reasoning behind the definition, and finally a simple application."
   ]
  },
  {
   "cell_type": "markdown",
   "id": "afd2e2dd-54d8-4b11-abd4-5e8dd4e40b63",
   "metadata": {},
   "source": [
    "## Utility Function Defined\n",
    "Before we really get into explaining the *reasoning* behind our choice of *function definition*, we will first simply show the mathematical formula in all it's glory:\n",
    "\n",
    "$$\n",
    "U(x) = \\frac{2D_{\\text{ideal}} - D_{\\text{actual}}}{M \\cdot T \\cdot S}\n",
    "$$\n",
    "\n",
    "Where:\n",
    "\n",
    "- $D_{\\text{ideal}}$ is the ideal (straight-line) distance between the start and end points of the journey.\n",
    "- $D_{\\text{actual}}$ is the actual traveled distance.\n",
    "- $M$ is the monetary cost.\n",
    "- $T$ is the total time.\n",
    "- $S$ is the stress.\n",
    "\n",
    "The *\"non-simplified\"* version looks like such:\n",
    "\n",
    "$$\n",
    "U(x) = \\frac{D_{\\text{ideal}}}{M \\cdot T \\cdot S} - \\frac{D_{\\text{actual}} - D_{\\text{ideal}}}{M \\cdot T \\cdot S}\n",
    "$$\n",
    "\n",
    "For the next section, where we will be exploring the *\"reasoning\"* of each term in the equation, we will be exploring this less compact version."
   ]
  }
 ],
 "metadata": {
  "kernelspec": {
   "display_name": "Python 3 (ipykernel)",
   "language": "python",
   "name": "python3"
  },
  "language_info": {
   "codemirror_mode": {
    "name": "ipython",
    "version": 3
   },
   "file_extension": ".py",
   "mimetype": "text/x-python",
   "name": "python",
   "nbconvert_exporter": "python",
   "pygments_lexer": "ipython3",
   "version": "3.11.8"
  }
 },
 "nbformat": 4,
 "nbformat_minor": 5
}
