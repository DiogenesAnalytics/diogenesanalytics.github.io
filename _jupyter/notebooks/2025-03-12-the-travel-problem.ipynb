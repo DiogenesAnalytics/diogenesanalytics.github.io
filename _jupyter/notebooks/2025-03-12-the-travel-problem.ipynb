{
 "cells": [
  {
   "cell_type": "raw",
   "id": "46ae9238-43a2-477e-bf22-3f4812a5bac6",
   "metadata": {
    "editable": true,
    "raw_mimetype": "",
    "slideshow": {
     "slide_type": ""
    },
    "tags": []
   },
   "source": [
    "---\n",
    "layout: article\n",
    "title: The Travel Problem\n",
    "custom_css: article.css\n",
    "include_mathjax: true\n",
    "---"
   ]
  },
  {
   "cell_type": "markdown",
   "id": "d7aaee8b-200e-449c-80e0-ee12338912f6",
   "metadata": {
    "editable": true,
    "slideshow": {
     "slide_type": ""
    },
    "tags": []
   },
   "source": [
    "## Introduction\n",
    "In this article we will discuss a very common *decision problem*: how best to travel from a starting point `A` to some target destination `Z` in the *\"best\"* manner possible. Of course, as we previously discussed in the [last article](https://diogenesanalytics.com/blog/2025/02/26/reasoning-about-utility), it is the *utility* that must be defined in order to *quantitatively* define what is best. The majority of the article will present the *mathematical* definition of the utility function $U(x)$ for the *travel problem*, as well as the reasoning behind the definition, and finally a simple demonstration using *simulated flight data*."
   ]
  },
  {
   "cell_type": "markdown",
   "id": "7f577d87-823e-4e47-a5e1-1f7e0577eeda",
   "metadata": {
    "editable": true,
    "jp-MarkdownHeadingCollapsed": true,
    "slideshow": {
     "slide_type": ""
    },
    "tags": []
   },
   "source": [
    "## Utility Function Defined\n",
    "Before we really get into explaining the *reasoning* behind our choice of *function definition*, we will first simply show the mathematical formula in all its glory:\n",
    "\n",
    "$$\n",
    "U(x) = \\frac{D_{\\text{ideal}}}{M \\cdot T \\cdot S \\cdot D_{\\text{actual}}}\n",
    "$$\n",
    "\n",
    "Where:\n",
    "\n",
    "- $D_{\\text{ideal}}$ is the ideal (straight-line) distance between the start and end points of the journey.\n",
    "  <br><br>\n",
    "- $D_{\\text{actual}}$ is the actual traveled distance.\n",
    "  <br><br>\n",
    "- $M$ is the monetary cost.\n",
    "  <br><br>\n",
    "- $T$ is the total time.\n",
    "  <br><br>\n",
    "- $S$ is the stress.\n",
    "\n",
    "In the next section we will explore the *\"reasoning\"* behind this equation."
   ]
  },
  {
   "cell_type": "markdown",
   "id": "58aa812a-60e0-401d-8291-c9ab621d6b1d",
   "metadata": {
    "editable": true,
    "slideshow": {
     "slide_type": ""
    },
    "tags": []
   },
   "source": [
    "## Reasoning About Travel Utility\n",
    "To understand how we arrived at such an equation, we must ask ourselves a simple question: what is the purpose of travel? Simply put, *travel* is about getting from one point to another. That could be called the *\"reward\"* or *\"benefit.\"* But the cost of said travel does not include just money $M$, but also time $T$, and even something more abstract, which is stress $S$.\n",
    "So we can think about the *\"utility\"* of such a problem as simply:\n",
    "\n",
    "$$\n",
    "U(x) = \\frac{\\text{What You Want}}{\\text{What It Costs}}\n",
    "$$\n",
    "\n",
    "In this case we want to travel some distance $D$ between two points, but we will be forced to pay some cost term that includes *money* $M$, *time* $T$, and stress $S$:\n",
    "\n",
    "$$\n",
    "U(x) = \\frac{D}{M \\cdot T \\cdot S}\n",
    "$$"
   ]
  },
  {
   "cell_type": "markdown",
   "id": "f92a3384-c2eb-4fb8-ab47-ea6045f6fdb4",
   "metadata": {
    "editable": true,
    "slideshow": {
     "slide_type": ""
    },
    "tags": []
   },
   "source": [
    "## Distance Efficiency\n",
    "But there is something else to consider: should utility increase or decrease as we are *\"forced\"* to travel **more** distance than the straight line path?"
   ]
  },
  {
   "cell_type": "code",
   "execution_count": null,
   "id": "3cfac0ba-20fc-4311-a563-d23df4f45887",
   "metadata": {
    "editable": true,
    "execution": {
     "iopub.execute_input": "2025-04-12T21:16:02.690339Z",
     "iopub.status.busy": "2025-04-12T21:16:02.690121Z",
     "iopub.status.idle": "2025-04-12T21:16:02.704646Z",
     "shell.execute_reply": "2025-04-12T21:16:02.704033Z"
    },
    "slideshow": {
     "slide_type": ""
    },
    "tags": [
     "remove_input",
     "remove_output"
    ]
   },
   "outputs": [],
   "source": [
    "# libs for downloading earth map data\n",
    "import pathlib\n",
    "import tempfile\n",
    "import urllib.request\n",
    "import zipfile\n",
    "from tqdm import tqdm\n",
    "\n",
    "# natural earth 10m cultural shape file\n",
    "shape_file_url = (\n",
    "    \"https://naciscdn.org/naturalearth/10m/cultural/10m_cultural.zip\"\n",
    ")\n",
    "\n",
    "# directory to save the downloaded file\n",
    "data_dir = pathlib.Path(\"./data/geo/\")\n",
    "\n",
    "# directory to extract the contents of the ZIP file\n",
    "extract_dir = data_dir / \"natural_earth_10m_cultural\"\n",
    "\n",
    "def download_with_progress(url: str, filename: pathlib.Path) -> None:\n",
    "    \"\"\"Utility function to download files with progress bar.\"\"\"\n",
    "    # set headers\n",
    "    headers = {\n",
    "        'User-Agent': 'Mozilla/5.0 (Windows NT 10.0; Win64; x64) AppleWebKit/537.36 (KHTML, like Gecko) Chrome/58.0.3029.110 Safari/537.3'\n",
    "    }\n",
    "\n",
    "    # create request\n",
    "    request = urllib.request.Request(url, headers=headers)\n",
    "\n",
    "    # open URL\n",
    "    response = urllib.request.urlopen(request)\n",
    "\n",
    "    # get total file size\n",
    "    total = int(response.getheader('Content-Length', 0))\n",
    "\n",
    "    # set block size for updating\n",
    "    block_size = 1024\n",
    "\n",
    "    # create progress bar\n",
    "    tqdm_bar = tqdm(total=total, unit='B', unit_scale=True, desc=filename.name)\n",
    "\n",
    "    # open new file\n",
    "    with open(filename, 'wb') as file:\n",
    "        # loop over blocks\n",
    "        while True:\n",
    "            # get next data chunk\n",
    "            buffer = response.read(block_size)\n",
    "\n",
    "            # quit if finished\n",
    "            if not buffer:\n",
    "                break\n",
    "\n",
    "            # write out data chunk\n",
    "            file.write(buffer)\n",
    "\n",
    "            # update progress bar\n",
    "            tqdm_bar.update(len(buffer))\n",
    "\n",
    "    # finished\n",
    "    tqdm_bar.close()\n",
    "\n",
    "# check for previous download\n",
    "if not extract_dir.exists():\n",
    "    # create the parent tree (in case it doesn't exist)\n",
    "    data_dir.mkdir(parents=True, exist_ok=True)\n",
    "    \n",
    "    # create a temporary directory to download the file\n",
    "    with tempfile.TemporaryDirectory() as temp_dir:\n",
    "        # filename for the downloaded ZIP file\n",
    "        zip_filename = pathlib.Path(temp_dir) / \"10m_cultural.zip\"\n",
    "        \n",
    "        # download the ZIP file with progress bar\n",
    "        download_with_progress(shape_file_url, zip_filename)\n",
    "    \n",
    "        # extract the contents of the ZIP file\n",
    "        with zipfile.ZipFile(zip_filename, 'r') as zip_ref:\n",
    "            zip_ref.extractall(extract_dir)"
   ]
  },
  {
   "cell_type": "code",
   "execution_count": null,
   "id": "3b7a2ca9-e733-48bc-839c-d8f0d9c7c331",
   "metadata": {
    "editable": true,
    "execution": {
     "iopub.execute_input": "2025-04-12T21:16:02.707699Z",
     "iopub.status.busy": "2025-04-12T21:16:02.707403Z",
     "iopub.status.idle": "2025-04-12T21:16:05.318490Z",
     "shell.execute_reply": "2025-04-12T21:16:05.317849Z"
    },
    "slideshow": {
     "slide_type": ""
    },
    "tags": [
     "remove_input",
     "remove_output"
    ]
   },
   "outputs": [],
   "source": [
    "import geopandas as gpd\n",
    "\n",
    "# get world geo data\n",
    "world_map = gpd.read_file(extract_dir / \"10m_cultural\")\n",
    "\n",
    "# filter for South American countries\n",
    "south_america = world_map[(world_map[\"CONTINENT\"] == \"South America\")]"
   ]
  },
  {
   "cell_type": "code",
   "execution_count": null,
   "id": "5a932a1d-10af-461a-a6c9-54d89ae0c182",
   "metadata": {
    "editable": true,
    "execution": {
     "iopub.execute_input": "2025-04-12T21:16:05.321368Z",
     "iopub.status.busy": "2025-04-12T21:16:05.321142Z",
     "iopub.status.idle": "2025-04-12T21:16:05.329747Z",
     "shell.execute_reply": "2025-04-12T21:16:05.329318Z"
    },
    "slideshow": {
     "slide_type": ""
    },
    "tags": [
     "remove_input"
    ]
   },
   "outputs": [],
   "source": [
    "# define all reasonably significant airports in South America, sorted by country\n",
    "airports_code_map = {\n",
    "\n",
    "    # Argentina\n",
    "    \"EZE\": {\"city\": \"Buenos Aires\", \"country\": \"Argentina\", \"coords\": (-58.3816, -34.6037)},\n",
    "    \"COR\": {\"city\": \"Cordoba\", \"country\": \"Argentina\", \"coords\": (-64.1888, -31.4201)},\n",
    "    \"ROS\": {\"city\": \"Rosario\", \"country\": \"Argentina\", \"coords\": (-60.6393, -32.9468)},\n",
    "    \"MDZ\": {\"city\": \"Mendoza\", \"country\": \"Argentina\", \"coords\": (-68.8458, -32.8908)},\n",
    "    \"MDQ\": {\"city\": \"Mar del Plata\", \"country\": \"Argentina\", \"coords\": (-57.5426, -38.0055)},\n",
    "    \"NQN\": {\"city\": \"Neuquén\", \"country\": \"Argentina\", \"coords\": (-68.0578, -38.9516)},\n",
    "    \n",
    "    # Bolivia\n",
    "    \"VVI\": {\"city\": \"Santa Cruz\", \"country\": \"Bolivia\", \"coords\": (-63.1805, -17.7892)},\n",
    "    \"LPB\": {\"city\": \"La Paz\", \"country\": \"Bolivia\", \"coords\": (-68.1193, -16.5000)},\n",
    "    \n",
    "    # Brazil\n",
    "    \"GRU\": {\"city\": \"São Paulo\", \"country\": \"Brazil\", \"coords\": (-46.6333, -23.5505)},\n",
    "    \"GIG\": {\"city\": \"Rio de Janeiro\", \"country\": \"Brazil\", \"coords\": (-43.1729, -22.9068)},\n",
    "    \"BSB\": {\"city\": \"Brasília\", \"country\": \"Brazil\", \"coords\": (-47.9292, -15.7801)},\n",
    "    \"MAO\": {\"city\": \"Manaus\", \"country\": \"Brazil\", \"coords\": (-60.0217, -3.1019)},\n",
    "    \"FOR\": {\"city\": \"Fortaleza\", \"country\": \"Brazil\", \"coords\": (-38.5267, -3.7172)},\n",
    "    \"REC\": {\"city\": \"Recife\", \"country\": \"Brazil\", \"coords\": (-34.9180, -8.0476)},\n",
    "    \"BEL\": {\"city\": \"Belém\", \"country\": \"Brazil\", \"coords\": (-48.4902, -1.4558)},\n",
    "    \"CNF\": {\"city\": \"Belo Horizonte\", \"country\": \"Brazil\", \"coords\": (-44.0028, -19.6244)},\n",
    "    \"CGB\": {\"city\": \"Cuiabá\", \"country\": \"Brazil\", \"coords\": (-56.0967, -15.5945)},\n",
    "    \"POA\": {\"city\": \"Porto Alegre\", \"country\": \"Brazil\", \"coords\": (-51.1714, -30.0346)},\n",
    "    \"FLN\": {\"city\": \"Florianópolis\", \"country\": \"Brazil\", \"coords\": (-48.5480, -27.5954)},\n",
    "    \n",
    "    # Chile\n",
    "    \"SCL\": {\"city\": \"Santiago\", \"country\": \"Chile\", \"coords\": (-70.6483, -33.4489)},\n",
    "    \n",
    "    # Colombia\n",
    "    \"BOG\": {\"city\": \"Bogotá\", \"country\": \"Colombia\", \"coords\": (-74.0721, 4.7110)},\n",
    "    \n",
    "    # Ecuador\n",
    "    \"UIO\": {\"city\": \"Quito\", \"country\": \"Ecuador\", \"coords\": (-78.4678, -0.1807)},\n",
    "    \"GYE\": {\"city\": \"Guayaquil\", \"country\": \"Ecuador\", \"coords\": (-79.8940, -2.1700)},\n",
    "    \"CUE\": {\"city\": \"Cuenca\", \"country\": \"Ecuador\", \"coords\": (-79.0059, -2.8974)},\n",
    "    \n",
    "    # Guyana\n",
    "    \"GEO\": {\"city\": \"Georgetown\", \"country\": \"Guyana\", \"coords\": (-58.2541, 6.8013)},\n",
    "    \n",
    "    # Paraguay\n",
    "    \"ASU\": {\"city\": \"Asunción\", \"country\": \"Paraguay\", \"coords\": (-57.5759, -25.2637)},\n",
    "    \n",
    "    # Peru\n",
    "    \"LIM\": {\"city\": \"Lima\", \"country\": \"Peru\", \"coords\": (-77.0428, -12.0464)},\n",
    "    \"AQP\": {\"city\": \"Arequipa\", \"country\": \"Peru\", \"coords\": (-71.5375, -16.4090)},\n",
    "    \n",
    "    # Suriname\n",
    "    \"PBM\": {\"city\": \"Paramaribo\", \"country\": \"Suriname\", \"coords\": (-55.1914, 5.4521)},\n",
    "    \n",
    "    # Uruguay\n",
    "    \"MVD\": {\"city\": \"Montevideo\", \"country\": \"Uruguay\", \"coords\": (-56.1645, -34.9011)},\n",
    "    \n",
    "    # Venezuela\n",
    "    \"CCS\": {\"city\": \"Caracas\", \"country\": \"Venezuela\", \"coords\": (-66.9036, 10.4806)}\n",
    "}"
   ]
  },
  {
   "cell_type": "code",
   "execution_count": null,
   "id": "c6df61af-27c6-4590-9653-481eb16bc708",
   "metadata": {
    "editable": true,
    "execution": {
     "iopub.execute_input": "2025-04-12T21:16:05.332073Z",
     "iopub.status.busy": "2025-04-12T21:16:05.331837Z",
     "iopub.status.idle": "2025-04-12T21:16:05.337234Z",
     "shell.execute_reply": "2025-04-12T21:16:05.336737Z"
    },
    "slideshow": {
     "slide_type": ""
    },
    "tags": [
     "remove_input"
    ]
   },
   "outputs": [],
   "source": [
    "# define different flight paths (corrected)\n",
    "routes = {\n",
    "    \"Direct Flight\": [\"BOG\", \"EZE\"],\n",
    "    \"Via São Paulo\": [\"BOG\", \"GRU\", \"EZE\"],\n",
    "    \"Via Lima\": [\"BOG\", \"LIM\", \"EZE\"],\n",
    "    \"Via Santiago\": [\"BOG\", \"SCL\", \"EZE\"],\n",
    "    \"Via Santa Cruz\": [\"BOG\", \"VVI\", \"EZE\"],\n",
    "    \"Via Lima & Santiago\": [\"BOG\", \"LIM\", \"SCL\", \"EZE\"],\n",
    "    \"Via Lima & Asunción\": [\"BOG\", \"LIM\", \"ASU\", \"EZE\"],\n",
    "    \"Via Lima & Santa Cruz\": [\"BOG\", \"LIM\", \"VVI\", \"EZE\"],\n",
    "    \"Via Santa Cruz & Santiago\": [\"BOG\", \"VVI\", \"SCL\", \"EZE\"],\n",
    "    \"Via Quito & Lima\": [\"BOG\", \"UIO\", \"LIM\", \"EZE\"],\n",
    "    \"Via Caracas & Lima\": [\"BOG\", \"CCS\", \"LIM\", \"EZE\"],\n",
    "    \"Via Quito & Santiago\": [\"BOG\", \"UIO\", \"SCL\", \"EZE\"],\n",
    "    \"Via Caracas & Santa Cruz\": [\"BOG\", \"CCS\", \"VVI\", \"EZE\"],\n",
    "    \"Via Quito & Asunción\": [\"BOG\", \"UIO\", \"ASU\", \"EZE\"],\n",
    "    \"Via Montevideo\": [\"BOG\", \"MVD\", \"EZE\"],\n",
    "    \"Via Rio de Janeiro\": [\"BOG\", \"GIG\", \"EZE\"],\n",
    "    \"Via Brasília & São Paulo\": [\"BOG\", \"BSB\", \"GRU\", \"EZE\"],\n",
    "    \"Via Brasília & Santa Cruz\": [\"BOG\", \"BSB\", \"VVI\", \"EZE\"],\n",
    "    \"Via Manaus\": [\"BOG\", \"MAO\", \"EZE\"],\n",
    "    \"Via Recife\": [\"BOG\", \"REC\", \"EZE\"],\n",
    "    \"Via Fortaleza\": [\"BOG\", \"FOR\", \"EZE\"],\n",
    "    \"Via Belém\": [\"BOG\", \"BEL\", \"EZE\"],\n",
    "    \"Via Cuiabá\": [\"BOG\", \"CGB\", \"EZE\"],\n",
    "    \"Via Porto Alegre\": [\"BOG\", \"POA\", \"EZE\"],\n",
    "    \"Via Florianópolis\": [\"BOG\", \"FLN\", \"EZE\"],\n",
    "    \"Via Cordoba\": [\"BOG\", \"COR\", \"EZE\"],\n",
    "    \"Via Guayaquil\": [\"BOG\", \"GYE\", \"EZE\"],\n",
    "    \"Via La Paz\": [\"BOG\", \"LPB\", \"EZE\"],\n",
    "    \"Via Arequipa\": [\"BOG\", \"AQP\", \"EZE\"],\n",
    "    \"Via Cuenca\": [\"BOG\", \"CUE\", \"EZE\"],\n",
    "    \"Via Rosario\": [\"BOG\", \"ROS\", \"EZE\"],\n",
    "    \"Via Mendoza\": [\"BOG\", \"MDZ\", \"EZE\"],\n",
    "    \"Via Mar del Plata\": [\"BOG\", \"MDQ\", \"EZE\"],\n",
    "    \"Via Neuquén\": [\"BOG\", \"NQN\", \"EZE\"]\n",
    "}"
   ]
  },
  {
   "cell_type": "code",
   "execution_count": null,
   "id": "dc97fdde-9c29-4964-bef5-ef281368c533",
   "metadata": {
    "editable": true,
    "execution": {
     "iopub.execute_input": "2025-04-12T21:16:05.339630Z",
     "iopub.status.busy": "2025-04-12T21:16:05.339407Z",
     "iopub.status.idle": "2025-04-12T21:16:05.347044Z",
     "shell.execute_reply": "2025-04-12T21:16:05.346611Z"
    },
    "slideshow": {
     "slide_type": ""
    },
    "tags": [
     "remove_input"
    ]
   },
   "outputs": [],
   "source": [
    "from shapely.geometry import Point\n",
    "\n",
    "# filter the airport codes using a dictionary comprehension\n",
    "subset_airport_codes = {\n",
    "    code: data\n",
    "    for code, data in airports_code_map.items()\n",
    "    if code in {\"EZE\", \"BOG\", \"LIM\", \"VVI\", \"SCL\", \"ASU\", \"GRU\"}\n",
    "}\n",
    "\n",
    "# filter the routes using a dictionary comprehension\n",
    "subset_routes = {\n",
    "    route_name: airports\n",
    "    for route_name, airports in routes.items()\n",
    "    if all(code in subset_airport_codes.keys() for code in airports)\n",
    "}\n",
    "\n",
    "# create GeoDataFrame for airports\n",
    "airports_subset_bog_to_eze = gpd.GeoDataFrame(\n",
    "    {\n",
    "        \"City\": [f\"{data['city']} ({key})\" for key, data in subset_airport_codes.items()],\n",
    "        \"Country\": [data[\"country\"] for data in subset_airport_codes.values()],\n",
    "        \"geometry\": [Point(data[\"coords\"]) for data in subset_airport_codes.values()]\n",
    "    },\n",
    "    crs=\"EPSG:4326\",\n",
    ")"
   ]
  },
  {
   "cell_type": "code",
   "execution_count": null,
   "id": "87935204-4312-4968-87b9-c37f52baf9e2",
   "metadata": {
    "editable": true,
    "execution": {
     "iopub.execute_input": "2025-04-12T21:16:05.349527Z",
     "iopub.status.busy": "2025-04-12T21:16:05.349227Z",
     "iopub.status.idle": "2025-04-12T21:16:06.217666Z",
     "shell.execute_reply": "2025-04-12T21:16:06.216980Z"
    },
    "slideshow": {
     "slide_type": ""
    },
    "tags": [
     "remove_input"
    ]
   },
   "outputs": [],
   "source": [
    "import matplotlib.pyplot as plt\n",
    "from matplotlib.lines import Line2D\n",
    "from adjustText import adjust_text\n",
    "from shapely.geometry import LineString\n",
    "\n",
    "\n",
    "# set initial figure counter to 1\n",
    "fig_count = 1\n",
    "\n",
    "# set the style to a dark theme\n",
    "plt.style.use(\"dark_background\")\n",
    "\n",
    "# match website background\n",
    "plt.rcParams[\"figure.facecolor\"] = \"#181818\"\n",
    "plt.rcParams[\"axes.facecolor\"] = \"#181818\"\n",
    "plt.rcParams[\"axes.edgecolor\"] = \"#181818\"\n",
    "\n",
    "# get subplot for South America\n",
    "fig, ax = plt.subplots(figsize=(16, 16))\n",
    "\n",
    "# set the view for only the mainland\n",
    "ax.set_xlim([-85, -30])\n",
    "ax.set_ylim([-60, 15])\n",
    "\n",
    "# turn off axes for the South America plot only\n",
    "ax.axis(\"off\")\n",
    "\n",
    "# plot all countries with darkish grey color\n",
    "south_america.plot(\n",
    "    ax=ax,\n",
    "    color=plt.cm.viridis(0.67),\n",
    "    edgecolor=\"#181818\",\n",
    "    linewidth=0.2,\n",
    ");\n",
    "\n",
    "# plot flight paths with a specific label for each route\n",
    "for route, path in subset_routes.items():\n",
    "    # Set color to red for Direct Flight, else a different color\n",
    "    if \"Direct\" in route:\n",
    "        color = \"red\"\n",
    "        style = \"solid\"\n",
    "\n",
    "    else:\n",
    "        color = plt.cm.inferno(1.0)\n",
    "        style = \"dashed\"\n",
    "\n",
    "    # Extract the coordinates for each airport code\n",
    "    coords = [subset_airport_codes[code][\"coords\"] for code in path]\n",
    "    \n",
    "    # Create a LineString and plot the route\n",
    "    line = LineString(coords)\n",
    "    ax.plot([point[0] for point in line.coords], [point[1] for point in line.coords],\n",
    "            color=color, linewidth=2, linestyle=style, alpha=0.7)\n",
    "\n",
    "# plot airports\n",
    "airports_subset_bog_to_eze.plot(ax=ax, color=\"red\", markersize=50, edgecolor=\"black\")\n",
    "\n",
    "texts = []\n",
    "for x, y, label in zip(\n",
    "    airports_subset_bog_to_eze.geometry.x,\n",
    "    airports_subset_bog_to_eze.geometry.y,\n",
    "    airports_subset_bog_to_eze[\"City\"]):\n",
    "    text = ax.text(x, y, label, fontsize=8, ha=\"right\", color=\"black\", bbox=dict(facecolor=\"white\", alpha=0.7))\n",
    "    texts.append(text)\n",
    "\n",
    "# Manually add the legend for \"Direct Flight\" and \"Non-Direct Flight\"\n",
    "legend_elements = [\n",
    "    Line2D([0], [0], color=\"red\", lw=2, linestyle=\"solid\", label=\"Direct Flight\"),\n",
    "    Line2D([0], [0], color=plt.cm.inferno(1.0), lw=1, linestyle=\"dashed\", label=\"Non-Direct Flight\")\n",
    "]\n",
    "\n",
    "# Add legend\n",
    "ax.legend(handles=legend_elements, loc=\"upper right\", fontsize=8, frameon=False)\n",
    "\n",
    "# set title\n",
    "plt.suptitle(\n",
    "    f\"Figure {fig_count}. Bogota to Buenos Aires Flight Paths.\", y=0.0001, fontsize=14,\n",
    ")\n",
    "\n",
    "# increment fig count\n",
    "fig_count += 1\n",
    "\n",
    "# adjust text positioning to avoid overlap, expand text bounding boxes\n",
    "adjust_text(\n",
    "    texts,\n",
    "    expand=(1.2, 2),  # expand bounding boxes by 1.2x in x and 2x in y directions\n",
    "    arrowprops=dict(arrowstyle='->', color='red')  # arrows to ensure clarity\n",
    ")\n",
    "\n",
    "# adjust padding\n",
    "plt.tight_layout(pad=0.5)  # Adjust the padding as needed\n",
    "\n",
    "# display\n",
    "plt.show()"
   ]
  },
  {
   "cell_type": "markdown",
   "id": "e0afa8a4-e841-4ed0-87e5-bddc46cd97ef",
   "metadata": {
    "editable": true,
    "slideshow": {
     "slide_type": ""
    },
    "tags": []
   },
   "source": [
    "In *figure 1* above we can see the various flight paths possible from *Bogota, Columbia* to *Buenos Aires, Argentina*. Clearly, any flight path that is not a *direct flight* will have a longer total distance. Should our *utility* function reward or penalize this? It would not make sense to *\"reward\"* excess distance, because that would be equivalent to *\"waste\"* distance. This can be understood in terms of **accuracy** or **efficiency**: we do not want to simply travel from point `A` to `Z` (e.g. *Bogota* to *Buenos Aires*) by any path, we want to get there by the path of *minimal waste*. So then how do we account for this *\"waste distance\"* because clearly we must consider it, otherwise our *utility function* would be *increasing* as the distance increases **beyond** the *\"ideal distance.\"* The solution comes from understanding that the *\"benefit\"* gained from traveling is not an absolute distance but a *distance efficiency* ($E_D$):\n",
    "\n",
    "$$\n",
    "E_D = \\frac{D_{\\text{ideal}}}{D_{\\text{actual}}}\n",
    "$$\n",
    "\n",
    "We are not *\"buying\"* raw distance, but instead an *\"efficiency\"* or *\"accuracy\"* of distance from our origin `A` to our target destination `Z`. Now we have the correct behavior:\n",
    "\n",
    "- **$D_{\\text{actual}} = D_{\\text{ideal}}; E_D = 1$**: utility is maximized, since the denominator is just\n",
    "  $M \\cdot T \\cdot S$, and there is no penalty from the actual distance.\n",
    "  <br><br>\n",
    "- **$D_{\\text{actual}} > D_{\\text{ideal}}; E_D < 0$**: utility decreases as the actual distance grows larger.\n",
    "\n",
    "We can now simplify the *utility function* even further:\n",
    "\n",
    "$$\n",
    "U(x) = \\frac{E_D}{M \\cdot T \\cdot S}\n",
    "$$"
   ]
  },
  {
   "cell_type": "markdown",
   "id": "4eaddd22-ba79-4a86-a1ba-1b6578774604",
   "metadata": {
    "editable": true,
    "slideshow": {
     "slide_type": ""
    },
    "tags": []
   },
   "source": [
    "## Mathematics of Stress\n",
    "The final term of the equation that we need to discuss is *stress* $S$. The *money* $M$ and *time* $T$ terms are relatively simple:\n",
    "\n",
    "+ $M$ represents all the financial costs spent on the trip (e.g. ticket cost, baggage fees, etc ...)\n",
    "  <br><br>\n",
    "+ $T$ represents all the *temporal* costs spent on the trip (e.g. flight time, layovers, traffic, delays, etc ...)\n",
    "\n",
    "But *stress* $S$ is a bit more abstract and complex:\n",
    "\n",
    "+ **Stress accumulates over time**, meaning that longer trips generally result in higher total stress.\n",
    "  <br><br>\n",
    "+ **Stress grows non-linearly**, so a continuous journey without breaks results in disproportionately\n",
    "  more stress than the same duration broken into parts: *the whole is more stressful than the sum of its parts*.\n",
    "  <br><br>\n",
    "+ **Stress growth depends on the traveler's baseline stress level $S_0$**, which represents how sensitive or reactive the\n",
    "  traveler is to discomfort, unpredictability, or stimulation.\n",
    "\n",
    "We *\"intuitively\"* feel this: a non-stop, 12-hour flight might feel more stressful than two 6-hour flights with a comfortable layover in between. Conversely, too many layovers can introduce additional stressors such as airport transfers, security checks, and unpredictability.\n",
    "\n",
    "So how do we go about deriving the *mathematical model* of stress? Well the *\"key\"* insight here is to understand that *stress* is simply an example of [continuously compounding](https://en.wikipedia.org/wiki/Compound_interest) which is just a type of [exponential growth](https://en.wikipedia.org/wiki/Exponential_growth):\n",
    "\n",
    "$$\n",
    "S = S_0 e^{S_0kT}\n",
    "$$\n",
    "\n",
    "where:  \n",
    "- $S_0$ is the **baseline stress** (initial stress level).\n",
    "  <br><br>\n",
    "- $k$ is a **stress growth rate**, which could depend on factors like discomfort, unpredictability, or psychological burden.\n",
    "  <br><br>\n",
    "- $T$ is the **total time** spent on that segment of the trip.\n",
    "\n",
    "Now let us a visualize how this stress equation behaves:"
   ]
  },
  {
   "cell_type": "code",
   "execution_count": null,
   "id": "df91d843-2a47-47e4-a682-a41cae4c7a57",
   "metadata": {
    "editable": true,
    "execution": {
     "iopub.execute_input": "2025-04-12T21:16:06.225488Z",
     "iopub.status.busy": "2025-04-12T21:16:06.224692Z",
     "iopub.status.idle": "2025-04-12T21:16:06.489737Z",
     "shell.execute_reply": "2025-04-12T21:16:06.488896Z"
    },
    "slideshow": {
     "slide_type": ""
    },
    "tags": [
     "remove_input"
    ]
   },
   "outputs": [],
   "source": [
    "import numpy as np\n",
    "\n",
    "# Common parameters\n",
    "t = np.linspace(0, 12, 300)  # time in hours\n",
    "k = 0.1  # fixed growth rate\n",
    "\n",
    "# First Plot: Varying S_0\n",
    "s0_values = [0.5, 1.0, 2.0]\n",
    "plt.figure(figsize=(10, 5))\n",
    "for s0 in s0_values:\n",
    "    S = s0 * np.exp(s0 * k * t)\n",
    "    plt.plot(t, S, label=f\"S₀ = {s0}\")\n",
    "\n",
    "# labels\n",
    "plt.xlabel(\"Time (hours)\")\n",
    "plt.ylabel(\"Base Stress ($S_0$)\")\n",
    "\n",
    "# set title\n",
    "plt.suptitle(\n",
    "    f\"Figure {fig_count}. Stress vs Time for Different $S_0$.\", y=0.0001, fontsize=12,\n",
    ")\n",
    "\n",
    "# increment fig count\n",
    "fig_count += 1\n",
    "\n",
    "plt.legend()\n",
    "plt.grid(False)\n",
    "plt.tight_layout()\n",
    "plt.show()"
   ]
  },
  {
   "cell_type": "markdown",
   "id": "58274677-9ab3-479c-8d6a-a4d0d5481214",
   "metadata": {},
   "source": [
    "In *figure 2* above, what we see is that *not only* does stress increase with time (in this case flight hours), but the larger $S_0$ (i.e. the higher the *base stress*) the more **exponentially** larger the increase in the *total stress* $S_{\\text{total}}$ at the end of the time. We should expect to see the same behavior with the *stress growth rate* $k$:"
   ]
  },
  {
   "cell_type": "code",
   "execution_count": null,
   "id": "1bf37f2a-c071-493f-b4b1-892888000ce1",
   "metadata": {
    "editable": true,
    "execution": {
     "iopub.execute_input": "2025-04-12T21:16:06.492780Z",
     "iopub.status.busy": "2025-04-12T21:16:06.492434Z",
     "iopub.status.idle": "2025-04-12T21:16:06.758635Z",
     "shell.execute_reply": "2025-04-12T21:16:06.758060Z"
    },
    "slideshow": {
     "slide_type": ""
    },
    "tags": [
     "remove_input"
    ]
   },
   "outputs": [],
   "source": [
    "# Baseline parameters\n",
    "S_0 = 1.0\n",
    "t = np.linspace(0, 12, 500)  # Travel time from 0 to 12 hours\n",
    "\n",
    "# Different k values to show how stress growth rate impacts final stress\n",
    "k_values = [0.05, 0.1, 0.2, 0.3]\n",
    "\n",
    "plt.figure(figsize=(10, 6))\n",
    "for k in k_values:\n",
    "    S = S_0 * np.exp(S_0 * k * t)\n",
    "    plt.plot(t, S, label=f'$k = {k}$')\n",
    "\n",
    "# labels\n",
    "plt.xlabel('Time (hours)')\n",
    "plt.ylabel('Stress $S$')\n",
    "\n",
    "# set title\n",
    "plt.suptitle(\n",
    "    f\"Figure {fig_count}. Effect of Stress Growth Rate $k$ on Travel Stress.\", y=0.0001, fontsize=12,\n",
    ")\n",
    "\n",
    "# update figure count\n",
    "fig_count += 1\n",
    "\n",
    "plt.legend()\n",
    "plt.grid(False)\n",
    "plt.tight_layout()\n",
    "plt.show()"
   ]
  },
  {
   "cell_type": "markdown",
   "id": "d5515a20-0807-4b74-8eeb-063cfda4c4dd",
   "metadata": {},
   "source": [
    "In *figure 3* above we see the exact same behavior: the total stress at the end of the travel time period grows exponentially in response to not only *time* but as we increase the *growth rate* $k$. Basically, *any term* that should influence the *growth rate* of stress $S$ should be in the *exponent* of the *stress growth equation*. Hence why both $S_0$, $k$, and $T$ are in the exponent:\n",
    "\n",
    "$$\n",
    "S = S_0 e^{S_0kT}\n",
    "$$\n",
    "\n",
    "And what is so special about the exponent that it influences the growth rate? The derivative:\n",
    "\n",
    "$$\n",
    "\\frac{dS}{dt} = \\frac{d}{dt} \\left( S_0 e^{S_0 k t} \\right) = S_0^2 k e^{S_0 k t}\n",
    "$$\n",
    "\n",
    "Whatever is in the *exponent* of the equation will be in the *exponent* of its derivative (*exponentially* influencing the *stress growth rate*) and that is exactly where we want $S_0$, $k$, and $T$ to be.\n",
    "\n",
    "Finally, we want there to be a difference between *continuous* and *interrupted* stress:"
   ]
  },
  {
   "cell_type": "code",
   "execution_count": null,
   "id": "389966d0-f790-40bd-b3b3-a317dde4b1d8",
   "metadata": {
    "editable": true,
    "execution": {
     "iopub.execute_input": "2025-04-12T21:16:06.761071Z",
     "iopub.status.busy": "2025-04-12T21:16:06.760796Z",
     "iopub.status.idle": "2025-04-12T21:16:06.947380Z",
     "shell.execute_reply": "2025-04-12T21:16:06.946656Z"
    },
    "slideshow": {
     "slide_type": ""
    },
    "tags": [
     "remove_input"
    ]
   },
   "outputs": [],
   "source": [
    "import numpy as np\n",
    "import matplotlib.pyplot as plt\n",
    "\n",
    "# Baseline parameters\n",
    "S_0 = 1.0\n",
    "t = np.linspace(0, 12, 500)  # Total travel time of 12 hours\n",
    "\n",
    "# Define segment configurations: (number of segments, label)\n",
    "segment_configs = [\n",
    "    (1, 'Continuous (1x12h)'),\n",
    "    (2, 'Split (2x6h)'),\n",
    "    (3, 'Split (3x4h)'),\n",
    "    (4, 'Split (4x3h)')\n",
    "]\n",
    "\n",
    "# Stress growth rate\n",
    "k = 0.3\n",
    "plt.figure(figsize=(10, 6))\n",
    "\n",
    "for (n_segments, label) in segment_configs:\n",
    "    segment_time = 12 / n_segments\n",
    "    stress_per_segment = S_0 * np.exp(S_0 * k * segment_time)\n",
    "    total_stress = stress_per_segment * n_segments\n",
    "    plt.bar(label, total_stress, width=0.5, hatch='xxxx')\n",
    "\n",
    "# labels\n",
    "plt.ylabel('Total Stress $S_{total}$')\n",
    "\n",
    "# set title\n",
    "plt.suptitle(\n",
    "    f\"Figure {fig_count}. Total Stress by Number of Segments (Fixed Total Travel Time = 12h)\", y=0.0001, fontsize=12\n",
    ")\n",
    "\n",
    "# update figure count\n",
    "fig_count += 1\n",
    "\n",
    "plt.grid(False)\n",
    "plt.tight_layout()\n",
    "plt.show()"
   ]
  },
  {
   "cell_type": "markdown",
   "id": "db526e50-f8c3-4b2f-9618-f5d80ba11e98",
   "metadata": {},
   "source": [
    "In *figure 4* above we see the results of the same *flight trip* broken up into different segments:\n",
    "\n",
    "+ $1$ 12-hour segment\n",
    "+ $2$ 6-hour segments\n",
    "+ $3$ 4-hour segments\n",
    "+ $4$ 3-hour segments\n",
    "\n",
    "And the results are exactly what we want to model in our *stress equation*: the cumulative stress *exponentially* decreases."
   ]
  },
  {
   "cell_type": "markdown",
   "id": "50182f31-433e-441a-a7be-89164e651051",
   "metadata": {},
   "source": [
    "## Synthetic Travel Data\n",
    "With the *stress mathematics* defined, we are ready to *actually* apply the *travel utility function* to the previous *travel plan* (i.e. *Bogota* -> *Buenos Aires*). But we first will need to generate some *synthetic travel data* that allows us to *simulate* what the *travel options* might look like:"
   ]
  },
  {
   "cell_type": "code",
   "execution_count": null,
   "id": "6d819b33-9e2e-4be9-a3a2-dd88eb6086cd",
   "metadata": {
    "editable": true,
    "execution": {
     "iopub.execute_input": "2025-04-12T21:16:06.950220Z",
     "iopub.status.busy": "2025-04-12T21:16:06.949976Z",
     "iopub.status.idle": "2025-04-12T21:16:06.961061Z",
     "shell.execute_reply": "2025-04-12T21:16:06.960321Z"
    },
    "slideshow": {
     "slide_type": ""
    },
    "tags": [
     "remove_input"
    ]
   },
   "outputs": [],
   "source": [
    "import numpy as np\n",
    "\n",
    "# for flipping lat/long coordinates\n",
    "def flip_coords(coord):\n",
    "    return (coord[1], coord[0])\n",
    "\n",
    "# function to calculate the great-circle distance (in km) between two points\n",
    "def calculate_distance(p1, p2):\n",
    "    lat1, lon1 = np.radians(p1)\n",
    "    lat2, lon2 = np.radians(p2)\n",
    "    dlat = lat2 - lat1\n",
    "    dlon = lon2 - lon1\n",
    "    a = np.sin(dlat / 2)**2 + np.cos(lat1) * np.cos(lat2) * np.sin(dlon / 2)**2\n",
    "    c = 2 * np.arctan2(np.sqrt(a), np.sqrt(1 - a))\n",
    "    return 6371 * c  # radius of Earth in km\n",
    "\n",
    "def variable_flight_speed(distance_km: float) -> float:\n",
    "    \"\"\"Simulates a variable flight speed over the course of a flight.\"\"\"\n",
    "    # define distance percentages for different phases\n",
    "    climb_percent = 0.1\n",
    "    cruise_percent = 0.8\n",
    "    descent_percent = 0.1\n",
    "\n",
    "    # calculate distance covered in each phase\n",
    "    climb_distance = distance_km * climb_percent\n",
    "    cruise_distance = distance_km * cruise_percent\n",
    "    descent_distance = distance_km * descent_percent\n",
    "\n",
    "    # fixed average speeds for each phase in km/h\n",
    "    climb_speed = 600  # Climb phase speed\n",
    "    cruise_speed = 800  # Cruise phase speed\n",
    "    descent_speed = 600  # Descent phase speed\n",
    "\n",
    "    # calculate flight time for each phase\n",
    "    climb_time = climb_distance / climb_speed\n",
    "    cruise_time = cruise_distance / cruise_speed\n",
    "    descent_time = descent_distance / descent_speed\n",
    "\n",
    "    # sum total flight time\n",
    "    total_time = climb_time + cruise_time + descent_time\n",
    "\n",
    "    return total_time\n",
    "\n",
    "# define constants\n",
    "D_ideal = calculate_distance(\n",
    "    flip_coords(airports_code_map[\"BOG\"][\"coords\"]),\n",
    "    flip_coords(airports_code_map[\"EZE\"][\"coords\"])\n",
    ")\n",
    "BASE_COST_PER_1000KM = 150\n",
    "\n",
    "# travel class impact on stress growth rate (lower k means less stress)\n",
    "class_k_modifier = {\n",
    "    \"Economy\": 1.0,\n",
    "    \"Business\": 0.7,\n",
    "    \"First Class\": 0.3\n",
    "}\n",
    "\n",
    "# day of week impact (weekends are less stressful for travel)\n",
    "day_k_modifier = {\n",
    "    \"Mon\": 1.2, \"Tue\": 1.1, \"Wed\": 1.1, \"Thu\": 1.0,\n",
    "    \"Fri\": 1.3, \"Sat\": 0.9, \"Sun\": 0.8\n",
    "}\n",
    "\n",
    "# month impact on stress (holidays and peak travel months like December or July increase stress)\n",
    "month_k_modifier = {\n",
    "    \"Jan\": 1.1, \"Feb\": 1.0, \"Mar\": 1.0, \"Apr\": 1.0, \"May\": 1.0, \"Jun\": 1.1,\n",
    "    \"Jul\": 1.3, \"Aug\": 1.0, \"Sep\": 1.0, \"Oct\": 1.0, \"Nov\": 1.1, \"Dec\": 1.3\n",
    "}\n",
    "\n",
    "# time of day impact (red-eye flights = less stress)\n",
    "time_k_modifier = {\n",
    "    \"Morning\": 1.2, \"Afternoon\": 1.1, \"Evening\": 1.0, \"Red-Eye\": 0.7\n",
    "}\n",
    "\n",
    "# weather conditions and their impact on stress\n",
    "weather_k_modifier = {\n",
    "    \"Clear\": 0.8,   # ideal conditions\n",
    "    \"Cloudy\": 1.0,  # neutral\n",
    "    \"Rainy\": 1.2,   # increased stress\n",
    "    \"Stormy\": 1.5,  # very stressful\n",
    "    \"Windy\": 1.3    # moderately stressful, especially during takeoff and landing\n",
    "}\n",
    "\n",
    "# lounge access types and stress modifiers\n",
    "lounge_access = {\n",
    "    \"None\": 1.0,        # no reduction in stress\n",
    "    \"Basic\": 0.9,       # mild reduction in stress\n",
    "    \"Premium\": 0.7,     # moderate reduction in stress\n",
    "    \"VIP\": 0.5,         # significant reduction in stress\n",
    "    \"Private Room\": 0.2 # near-zero stress\n",
    "}\n",
    "\n",
    "# class multipliers (how much more expensive each class is compared to Economy)\n",
    "class_price_multiplier = {\n",
    "    \"Economy\": 1.0,\n",
    "    \"Business\": 2.0,\n",
    "    \"First Class\": 4.0\n",
    "}\n",
    "\n",
    "# lounge access cost multipliers\n",
    "lounge_price_multiplier = {\n",
    "    \"None\": 1.0,\n",
    "    \"Basic\": 1.1,\n",
    "    \"Premium\": 1.3,\n",
    "    \"VIP\": 1.6,\n",
    "    \"Private Room\": 2.0\n",
    "}\n",
    "\n",
    "# stress tier definitions (S_0)\n",
    "stress_tiers = {\n",
    "    \"low\": 1,\n",
    "    \"mild\": 3,\n",
    "    \"moderate\": 5,\n",
    "    \"high\": 8,\n",
    "}\n",
    "\n",
    "# stress growth rate modifiers for each airline\n",
    "airline_k_modifier = {\n",
    "    \"Avianca\": 0.9,\n",
    "    \"LATAM\": 1.0,\n",
    "    \"Aerolineas Argentinas\": 1.1,\n",
    "    \"Gol\": 1.2,\n",
    "    \"Sky Airline\": 1.3,\n",
    "    \"Viva Air\": 1.4,\n",
    "    \"Jetsmart\": 1.5,\n",
    "    \"BoA\": 1.1,\n",
    "    \"Amaszonas\": 1.3,\n",
    "    \"Paranair\": 1.4,\n",
    "    \"Copa\": 1.0,\n",
    "    \"Azul\": 1.2\n",
    "}\n",
    "\n",
    "# price multipliers for each airline\n",
    "airline_price_modifier = {\n",
    "    \"Avianca\": 1.1,\n",
    "    \"LATAM\": 1.2,\n",
    "    \"Aerolineas Argentinas\": 1.3,\n",
    "    \"Gol\": 1.0,\n",
    "    \"Sky Airline\": 0.9,\n",
    "    \"Viva Air\": 0.8,\n",
    "    \"Jetsmart\": 0.85,\n",
    "    \"BoA\": 1.0,\n",
    "    \"Amaszonas\": 1.05,\n",
    "    \"Paranair\": 1.2,\n",
    "    \"Copa\": 1.15,\n",
    "    \"Azul\": 1.1\n",
    "}"
   ]
  },
  {
   "cell_type": "code",
   "execution_count": null,
   "id": "b0f7e3f5-3608-4777-90e2-979abd7aaa1e",
   "metadata": {
    "editable": true,
    "execution": {
     "iopub.execute_input": "2025-04-12T21:16:06.963912Z",
     "iopub.status.busy": "2025-04-12T21:16:06.963744Z",
     "iopub.status.idle": "2025-04-12T21:16:06.979393Z",
     "shell.execute_reply": "2025-04-12T21:16:06.978568Z"
    },
    "slideshow": {
     "slide_type": ""
    },
    "tags": [
     "remove_input"
    ]
   },
   "outputs": [],
   "source": [
    "import itertools\n",
    "import numpy as np\n",
    "from typing import List, Dict, Generator, Any, Optional, Tuple\n",
    "\n",
    "# set seed for reproducibility\n",
    "np.random.seed(42)\n",
    "\n",
    "def generate_layover_times(\n",
    "    size: int = 1000, mu: float = 1.0, sigma: float = 0.75, min_layover: float = 1.0, max_layover: float = 10.0\n",
    ") -> np.ndarray:\n",
    "    \"\"\"Generates random layover times based on a log-normal distribution.\"\"\"\n",
    "    # generate log-normal distributed values\n",
    "    layover_times = np.random.lognormal(mean=mu, sigma=sigma, size=size)\n",
    "    \n",
    "    # clip values to the specified range (between min_layover and max_layover)\n",
    "    layover_times = np.clip(layover_times, min_layover, max_layover)\n",
    "    \n",
    "    return layover_times\n",
    "\n",
    "def get_max_layovers(routes: Dict[str, Any]) -> int:\n",
    "    \"\"\"Finds the maximum number of layovers in the given routes dictionary.\"\"\"\n",
    "    # set initial count\n",
    "    max_layovers_count = 0\n",
    "\n",
    "    # loop over routes\n",
    "    for path in routes.values():\n",
    "        # calculate layover number\n",
    "        layovers = len(path) - 2\n",
    "\n",
    "        # update max\n",
    "        max_layovers_count = max(max_layovers_count, layovers)\n",
    "    \n",
    "    return max_layovers_count\n",
    "\n",
    "def generate_layover_combinations(\n",
    "    layover_times: List[float], \n",
    "    lounge_types: List[str], \n",
    "    max_layovers: int\n",
    ") -> Generator[List[Tuple[float, str]], None, None]:\n",
    "    \"\"\"Generate all possible valid layover combinations.\"\"\"\n",
    "    # direct flight with no layovers\n",
    "    yield [(0, \"None\")]\n",
    " \n",
    "    # get combos\n",
    "    layover_combinations = list(itertools.product(layover_times, lounge_types))\n",
    "    \n",
    "    # generate combinations for each number of layovers\n",
    "    for num_layovers in range(1, max_layovers + 1):\n",
    "        for combination in itertools.product(layover_combinations, repeat=num_layovers):\n",
    "            yield list(combination)\n",
    "\n",
    "def generate_all_combinations(\n",
    "    routes: Dict[str, List[str]],\n",
    "    airlines: List[str],\n",
    "    travel_class: List[str],\n",
    "    day_of_week: List[str],\n",
    "    month: List[str],\n",
    "    time_of_day: List[str],\n",
    "    weather: List[str],\n",
    "    layover_times: List[float],\n",
    "    lounge_types: List[str]\n",
    ") -> Generator[Dict[str, Any], None, None]:\n",
    "    \"\"\"Generate all possible combinations of flight parameters (exhaustive).\"\"\"\n",
    "    # generate flight parameters combinations\n",
    "    for route, airline, t_class, day, m, time, w, layover in itertools.product(\n",
    "        routes.keys(),\n",
    "        airlines,\n",
    "        travel_class,\n",
    "        day_of_week,\n",
    "        month,\n",
    "        time_of_day,\n",
    "        weather,\n",
    "        generate_layover_combinations(layover_times, lounge_types, get_max_layovers(routes))\n",
    "    ):\n",
    "        # calculate the number of layovers for the route\n",
    "        num_layovers = len(routes[route]) - 2\n",
    "\n",
    "        # check if it's a direct flight, layover must be [(0, 'None')]\n",
    "        if 'Direct Flight' in route and layover != [(0, 'None')]:\n",
    "            continue  # Skip direct flights with any layovers\n",
    "\n",
    "        # check if it's a flight with layovers, the number of layovers should match\n",
    "        if num_layovers > 0 and len(layover) != num_layovers or num_layovers > 0 and layover == [(0, \"None\")]:\n",
    "            continue  # Skip combinations where the layover count doesn't match the route\n",
    "\n",
    "        # extract layover times and lounges from the layover combination (which is a list of tuples)\n",
    "        layover_times_comb = [time for time, _ in layover]\n",
    "        lounges = [lounge for _, lounge in layover]\n",
    "\n",
    "        # yield the valid combination of parameters\n",
    "        yield {\n",
    "            \"route\": route,\n",
    "            \"airline\": airline,\n",
    "            \"travel_class\": t_class,\n",
    "            \"day_of_week\": day,\n",
    "            \"month\": m,\n",
    "            \"time_of_day\": time,\n",
    "            \"weather\": w,\n",
    "            \"layover_times\": layover_times_comb,\n",
    "            \"lounges\": lounges\n",
    "        }\n",
    "\n",
    "def generate_random_combinations(\n",
    "    routes: Dict[str, List[str]],\n",
    "    airlines: List[str],\n",
    "    travel_class: List[str],\n",
    "    day_of_week: List[str],\n",
    "    month: List[str],\n",
    "    time_of_day: List[str],\n",
    "    weather: List[str],\n",
    "    layover_times: List[float],\n",
    "    lounge_types: List[str],\n",
    "    random_samples: int\n",
    ") -> Generator[Dict[str, Any], None, None]:\n",
    "    \"\"\"Generate multiple random samples of flight parameters.\"\"\"\n",
    "    # begin loop to generate random data\n",
    "    for _ in range(random_samples):\n",
    "        route = np.random.choice(list(routes.keys()))\n",
    "        airline = np.random.choice(airlines)\n",
    "        t_class = np.random.choice(travel_class)\n",
    "        day = np.random.choice(day_of_week)\n",
    "        m = np.random.choice(month)\n",
    "        time = np.random.choice(time_of_day)\n",
    "        w = np.random.choice(weather)\n",
    "\n",
    "        # determine number of layovers required\n",
    "        layover_count = len(routes[route]) - 2\n",
    "\n",
    "        # generate layover times (based on number of layovers in the route)        \n",
    "        if layover_count > 0:\n",
    "            lay_times = np.random.choice(layover_times, size=layover_count)\n",
    "        else:\n",
    "            # no layovers for direct flights\n",
    "            lay_times = [0]\n",
    "\n",
    "        # generate lounge type (ensure it matches the number of layovers)\n",
    "        if layover_count == 0:\n",
    "            # no layovers means no lounge\n",
    "            lounges = [\"None\"]\n",
    "        else:\n",
    "            # optional lounge access for each layover\n",
    "            lounges = np.random.choice(lounge_types, size=layover_count)\n",
    "\n",
    "        yield {\n",
    "            \"route\": route,\n",
    "            \"airline\": airline,\n",
    "            \"travel_class\": t_class,\n",
    "            \"day_of_week\": day,\n",
    "            \"month\": m,\n",
    "            \"time_of_day\": time,\n",
    "            \"weather\": w,\n",
    "            \"layover_times\": lay_times,\n",
    "            \"lounges\": lounges\n",
    "        }\n",
    "\n",
    "def generate_flight_parameters(\n",
    "    routes: Dict[str, List[str]],\n",
    "    airlines: Optional[List[str]] = None,\n",
    "    travel_class: Optional[List[str]] = None,\n",
    "    day_of_week: Optional[List[str]] = None,\n",
    "    month: Optional[List[str]] = None,\n",
    "    time_of_day: Optional[List[str]] = None,\n",
    "    weather: Optional[List[str]] = None,\n",
    "    layover_times: Optional[List[float]] = None,\n",
    "    lounge_types: Optional[List[str]] = None,\n",
    "    random_samples: Optional[int] = None\n",
    ") -> Generator[Dict[str, Any], None, None]:\n",
    "    \"\"\"Generate flight parameters either randomly or exhaustively.\"\"\"\n",
    "    # default values for parameters if they are not passed\n",
    "    airlines = airlines or list(airline_k_modifier.keys())\n",
    "    travel_class = travel_class or list(class_k_modifier.keys())\n",
    "    day_of_week = day_of_week or list(day_k_modifier.keys())\n",
    "    month = month or list(month_k_modifier.keys())\n",
    "    time_of_day = time_of_day or list(time_k_modifier.keys())\n",
    "    weather = weather or list(weather_k_modifier.keys())\n",
    "    layover_times = layover_times or generate_layover_times(10)\n",
    "    lounge_types = lounge_types or list(lounge_access.keys())\n",
    "\n",
    "    # prepare a dictionary with the parameters to pass\n",
    "    params_dict = {\n",
    "        'routes': routes,\n",
    "        'airlines': airlines,\n",
    "        'travel_class': travel_class,\n",
    "        'day_of_week': day_of_week,\n",
    "        'month': month,\n",
    "        'time_of_day': time_of_day,\n",
    "        'weather': weather,\n",
    "        'layover_times': layover_times,\n",
    "        'lounge_types': lounge_types\n",
    "    }\n",
    "\n",
    "    # set default generator function\n",
    "    params_generator = generate_all_combinations\n",
    "\n",
    "    # check for random_samples and update accordingly\n",
    "    if random_samples:\n",
    "        params_dict['random_samples'] = random_samples\n",
    "        params_generator = generate_random_combinations\n",
    "\n",
    "    # use kwargs unpacking to pass parameters to the generator\n",
    "    yield from params_generator(**params_dict)"
   ]
  },
  {
   "cell_type": "code",
   "execution_count": null,
   "id": "6551b00a-d565-4879-90f5-749eb91f2dc6",
   "metadata": {
    "editable": true,
    "execution": {
     "iopub.execute_input": "2025-04-12T21:16:06.982692Z",
     "iopub.status.busy": "2025-04-12T21:16:06.982147Z",
     "iopub.status.idle": "2025-04-12T21:16:06.994855Z",
     "shell.execute_reply": "2025-04-12T21:16:06.994190Z"
    },
    "slideshow": {
     "slide_type": ""
    },
    "tags": [
     "remove_input"
    ]
   },
   "outputs": [],
   "source": [
    "import pandas as pd\n",
    "from typing import Iterable\n",
    "\n",
    "def calculate_stress(S_0: float, k: float, t: float) -> float:\n",
    "    \"\"\"Calculates stress based on the formula.\"\"\"\n",
    "    return S_0 * np.exp(S_0 * k * t)\n",
    "\n",
    "def generate_flight_utility_data(\n",
    "    flight_params: Iterable[Dict[str, Any]],\n",
    "    base_stress: Optional[str] = None,\n",
    "    wealth: Optional[float] = None,\n",
    "    utility_scale: float = 1.0,\n",
    "    k_scale: float = 1.0\n",
    ") -> pd.DataFrame:\n",
    "    \"\"\"\n",
    "    Generates synthetic flight utililty data based on various travel factors such as route, class, \n",
    "    time of travel, weather conditions, and stress modifiers.\n",
    "    \n",
    "    Args:\n",
    "        flight_params (Iterable[Dict[str, Any]]):\n",
    "            An iterable (e.g., list) containing pre-generated flight parameters.\n",
    "        base_stress (Optional[str], optional):\n",
    "            If set, the stress level will be based on the given tier ('low', 'moderate', 'high', 'extreme');\n",
    "            If None (default), the stress level will be randomized.\n",
    "        wealth (Optional[float], optional):\n",
    "            If provided, an additional price utility metric (`U_p = M / W`) is calculated.\n",
    "        utility_scale (float):\n",
    "            A scaling factor applied to the final travel utility (`U_t`).\n",
    "            Defaults to 1.0 (no scaling).\n",
    "        k_scale (float, optional):\n",
    "            A global scaling factor applied to the stress growth rate `k`.\n",
    "            Defaults to 1.0 (no scaling). Lower values reduce exponential stress growth.\n",
    "\n",
    "    \n",
    "    Returns:\n",
    "        pd.DataFrame: A DataFrame containing the generated flight data, including:\n",
    "            - Route\n",
    "            - Airline\n",
    "            - Class\n",
    "            - Day\n",
    "            - Month\n",
    "            - Time of Day\n",
    "            - Weather\n",
    "            - D_actual (Total Distance)\n",
    "            - T_flight (Total Flight Time)\n",
    "            - T_layover (Total Layover Time)\n",
    "            - M (Cost $)\n",
    "            - Lounges (Airport Lounges Purchased)\n",
    "            - W (Wealth, if provided)\n",
    "            - U_p (Price Utility, if W is provided)\n",
    "            - S_0 (Base Stress)\n",
    "            - S_flight (Flight Stress)\n",
    "            - S_layover (Layover Stress)\n",
    "            - S_total (Total Stress)\n",
    "            - U_t (Scaled Travel Utility)\n",
    "    \"\"\"\n",
    "    # temp travel option data storage\n",
    "    data = []\n",
    "\n",
    "    # process each set of flight parameters\n",
    "    for flight_param in flight_params:\n",
    "        route = flight_param[\"route\"]\n",
    "        airlines = flight_param[\"airline\"]\n",
    "        travel_class = flight_param[\"travel_class\"]\n",
    "        day_of_week = flight_param[\"day_of_week\"]\n",
    "        month = flight_param[\"month\"]\n",
    "        time_of_day = flight_param[\"time_of_day\"]\n",
    "        weather = flight_param[\"weather\"]\n",
    "        layover_times = flight_param[\"layover_times\"]\n",
    "        lounge_types = flight_param[\"lounges\"]\n",
    "\n",
    "        # get city coordinates for the route\n",
    "        airport_codes = routes[route]\n",
    "        distance = 0\n",
    "        flight_time_per_leg = []\n",
    "\n",
    "        # calculate total distance and flight times\n",
    "        for i in range(len(airport_codes) - 1):\n",
    "            code1, code2 = airport_codes[i], airport_codes[i + 1]\n",
    "            leg_distance = calculate_distance(\n",
    "                flip_coords(airports_code_map[code1][\"coords\"]),\n",
    "                flip_coords(airports_code_map[code2][\"coords\"])\n",
    "            )\n",
    "            flight_time_per_leg.append(variable_flight_speed(leg_distance))\n",
    "            distance += leg_distance\n",
    "\n",
    "        # total layover time\n",
    "        T_layover = sum(layover_times)  # total layover time\n",
    "\n",
    "        # handle composite airlines by splitting and averaging\n",
    "        airline_parts = airlines.split(\" + \")\n",
    "        airline_k = np.mean([airline_k_modifier[airline] for airline in airline_parts])\n",
    "        airline_price = np.mean([airline_price_modifier[airline] for airline in airline_parts])\n",
    "\n",
    "        # compute stress growth rate modifiers\n",
    "        k_flight = k_scale * sum((\n",
    "            class_k_modifier[travel_class], \n",
    "            day_k_modifier[day_of_week],\n",
    "            month_k_modifier[month], \n",
    "            time_k_modifier[time_of_day],\n",
    "            weather_k_modifier[weather], \n",
    "            airline_k\n",
    "        )) \n",
    "\n",
    "        k_layover = k_scale * sum((\n",
    "            day_k_modifier[day_of_week], \n",
    "            month_k_modifier[month], \n",
    "            time_k_modifier[time_of_day]\n",
    "        ))\n",
    "\n",
    "        # set stress tier (or randomize)\n",
    "        initial_stress_lvl = np.random.choice(list(stress_tiers.keys())) if not base_stress else base_stress\n",
    "\n",
    "        # get initial stress level\n",
    "        S_0 = stress_tiers[initial_stress_lvl]\n",
    "\n",
    "        # compute flight stress\n",
    "        S_flight = sum(calculate_stress(S_0, k_flight, t) for t in flight_time_per_leg)\n",
    "\n",
    "        # compute layover(s) stress\n",
    "        S_layover = 0\n",
    "        for i, layover_time in enumerate(layover_times):\n",
    "            # skip zero-duration layovers (e.g., direct flights)\n",
    "            if layover_time == 0:\n",
    "                continue\n",
    "\n",
    "            # get type of lounge for the i-th layover\n",
    "            lounge_type = lounge_types[i]\n",
    "\n",
    "            # get stress modifier\n",
    "            lounge_modifier = lounge_access[lounge_type]\n",
    "\n",
    "            # modify base layover stress rate\n",
    "            k_layover_adjusted = k_layover * lounge_modifier\n",
    "\n",
    "            # update sum of all layover stress\n",
    "            S_layover += calculate_stress(S_0, k_layover_adjusted, layover_time)\n",
    "\n",
    "\n",
    "        # total them\n",
    "        S_total = S_flight + S_layover\n",
    "\n",
    "        # get base cost\n",
    "        base_cost = (distance / 1000) * BASE_COST_PER_1000KM\n",
    "\n",
    "        # get lounge costs\n",
    "        lounge_price_modifiers = [lounge_price_multiplier[lounge] for lounge in lounge_types]\n",
    "        total_lounge_modifier = np.mean(lounge_price_modifiers)  # averaging across all lounges used\n",
    "\n",
    "        # get total cost\n",
    "        M = base_cost * class_price_multiplier[travel_class] * total_lounge_modifier * airline_price\n",
    "\n",
    "        # compute travel utility\n",
    "        U_t = D_ideal / (M * (sum(flight_time_per_leg) + T_layover) * S_total * distance)\n",
    "\n",
    "        # scale travel utility\n",
    "        U_t *= utility_scale\n",
    "\n",
    "         # Create row dictionary\n",
    "        row = {\n",
    "            \"Route\": route, \"Airline\": airlines, \"Class\": travel_class, \"Day\": day_of_week,\n",
    "            \"Month\": month, \"Time of Day\": time_of_day, \"Weather\": weather, \"D_actual\": distance,\n",
    "            \"T_flight\": sum(flight_time_per_leg), \"T_layover\": T_layover, \"M ($)\": M, \"Lounges\": \" + \".join(lounge_types),\n",
    "            \"S_0\": initial_stress_lvl, \"S_flight\": S_flight, \"S_layover\": S_layover, \"S_total\": S_total, \"U_t\": U_t\n",
    "        }\n",
    "\n",
    "        # If wealth is given, compute U_p and scale U_t\n",
    "        if wealth is not None:\n",
    "            row[\"W\"] = wealth\n",
    "            row[\"U_p\"] = M / wealth\n",
    "            row[\"U_t\"] *= wealth\n",
    "\n",
    "        data.append(row)\n",
    "\n",
    "    # define column order\n",
    "    columns = [\n",
    "        \"Route\", \"Airline\", \"Class\", \"Day\", \"Month\", \"Time of Day\", \"Weather\",\n",
    "        \"D_actual\", \"T_flight\", \"T_layover\", \"M ($)\", \"Lounges\"\n",
    "    ]\n",
    "\n",
    "    # insert right after \"M ($)\"\n",
    "    if wealth is not None:\n",
    "        columns.extend([\"W\", \"U_p\"])\n",
    "\n",
    "    # default\n",
    "    columns.extend([\"S_0\", \"S_flight\", \"S_layover\", \"S_total\", \"U_t\"])\n",
    "\n",
    "    # create dataframe\n",
    "    flight_df = pd.DataFrame(data, columns=columns)\n",
    "\n",
    "    # rename the inherent index to the flight 'id'\n",
    "    flight_df.index.name = 'id'\n",
    "\n",
    "    # finished product\n",
    "    return flight_df"
   ]
  },
  {
   "cell_type": "code",
   "execution_count": null,
   "id": "db023af4-52dc-4bc1-95ff-00e34c67db7f",
   "metadata": {
    "editable": true,
    "execution": {
     "iopub.execute_input": "2025-04-12T21:16:06.997579Z",
     "iopub.status.busy": "2025-04-12T21:16:06.997415Z",
     "iopub.status.idle": "2025-04-12T21:16:07.001216Z",
     "shell.execute_reply": "2025-04-12T21:16:07.000736Z"
    },
    "slideshow": {
     "slide_type": ""
    },
    "tags": [
     "remove_input"
    ]
   },
   "outputs": [],
   "source": [
    "def print_split_dataframe(df: pd.DataFrame) -> None:\n",
    "    \"\"\"Splits a DataFrame into two vertical halves (by columns) and prints them separately.\"\"\"\n",
    "    # split the DataFrame into two halves\n",
    "    halfway = len(df.columns) // 2\n",
    "    first_half = df.iloc[:, :halfway]\n",
    "    second_half = df.iloc[:, halfway:]\n",
    "\n",
    "    # print the two halves separately\n",
    "    print(first_half.round(2).to_string())\n",
    "    print(\"\\n\")\n",
    "    print(second_half.round(2).to_string())"
   ]
  },
  {
   "cell_type": "code",
   "execution_count": null,
   "id": "d015b279-2916-4202-a3c9-f499c5158e10",
   "metadata": {
    "editable": true,
    "execution": {
     "iopub.execute_input": "2025-04-12T21:16:07.003002Z",
     "iopub.status.busy": "2025-04-12T21:16:07.002818Z",
     "iopub.status.idle": "2025-04-12T21:16:07.274968Z",
     "shell.execute_reply": "2025-04-12T21:16:07.274446Z"
    },
    "slideshow": {
     "slide_type": ""
    },
    "tags": [
     "remove_input"
    ]
   },
   "outputs": [],
   "source": [
    "# get ranndom flight params\n",
    "sample_flight_params = list(generate_flight_parameters(subset_routes, random_samples=1000))\n",
    "\n",
    "# get some sample flight utility data\n",
    "sample_flights_df = generate_flight_utility_data(sample_flight_params, k_scale=0.05, utility_scale=1e8)\n",
    "\n",
    "# get the highest U_t scored flights for each route\n",
    "sample_best_routes = sample_flights_df.loc[sample_flights_df.groupby('Route')['U_t'].idxmax()]\n",
    "\n",
    "# sort by U_t greatest -> least\n",
    "sorted_best_routes = sample_best_routes.sort_values(by='U_t', ascending=False)\n",
    "\n",
    "# print\n",
    "print_split_dataframe(sorted_best_routes)"
   ]
  },
  {
   "cell_type": "markdown",
   "id": "90312989-f8f5-423b-89c3-a4e485f9f413",
   "metadata": {},
   "source": [
    " Here is a breakdown of what each column in the above *sample data* represents:  \n",
    "\n",
    "- **`Route`**: The specific flight route taken, including possible layovers or connections.\n",
    "  <br><br>\n",
    "- **`Airline`**: The airline or airlines providing the travel service. If multiple airlines are used, they are separated by a\n",
    "  `+` symbol.\n",
    "  <br><br>\n",
    "- **`Class`**: The travel class for the majority of the trip, which influences stress and comfort (e.g., Economy, Business,\n",
    "  First Class).\n",
    "  <br><br>\n",
    "- **`Day`**: The day of the week on which the journey begins (e.g., Mon, Tue, Wed).\n",
    "  <br><br>\n",
    "- **`Month`**: The month in which the journey begins (e.g., Jan, Feb, Mar).\n",
    "  <br><br>\n",
    "- **`Time of Day`**: The approximate time of day when the flight begins (e.g., Morning, Afternoon, Evening, Red-Eye).\n",
    "  <br><br>\n",
    "- **`Weather`**: Weather conditions during takeoff or landing, which can influence stress (e.g., Clear, Cloudy, Stormy,\n",
    "  Windy).\n",
    "  <br><br>\n",
    "- **`D_actual`**: The actual distance covered by the route in miles, which may be greater than the ideal distance due to\n",
    "  layovers or deviations.\n",
    "  <br><br>\n",
    "- **`T_flight`**: Total inflight time in hours.\n",
    "  <br><br> \n",
    "- **`T_layover`**: Total layover time in hours.\n",
    "  <br><br>\n",
    "- **`M ($)`**: Total monetary cost of the journey in U.S. dollars.\n",
    "  <br><br>\n",
    "- **`Lounges`**: Available lounges or relaxation areas during layovers, which affect stress (e.g., VIP, Basic, Premium,\n",
    "  Private Room).\n",
    "  <br><br>\n",
    "- **`S_0`**: Initial stress level, which starts at a moderate value for all options but can escalate based on various factors.\n",
    "  <br><br>\n",
    "- **`S_flight`**: Stress accumulated during the flight, influenced by factors such as class, flight duration, and weather.\n",
    "  <br><br>  \n",
    "- **`S_layover`**: Stress accumulated during layovers, influenced by factors such as available lounges, duration, and crowd\n",
    "  density.\n",
    "  <br><br>\n",
    "- **`S_total`**: Total stress for the entire journey, calculated as the sum of `S_flight` and `S_layover`.\n",
    "  <br><br>\n",
    "- **`U_t`**: The calculated travel utility score for the route, where higher values represent better travel options.  \n",
    "\n",
    "The $U_t$ column is calculated using the travel utility function:\n",
    "\n",
    "$$\n",
    "U_t = \\frac{D_\\text{ideal}}{M \\times (T_\\text{flight} + T_\\text{layover}) \\times S_\\text{total} \\times D_\\text{actual}}\n",
    "$$\n",
    "\n",
    "Higher utility values indicate more favorable travel options considering distance, cost, stress, and time. The $D_{\\text{actual}}$ values vary depending on different stopovers and connecting routes, which can increase total distance traveled."
   ]
  },
  {
   "cell_type": "markdown",
   "id": "8ed1b709-a907-4439-b212-a143befc72b0",
   "metadata": {},
   "source": [
    "## Base Stress ($S_0$) Effects\n",
    "Now that we have a way of generating *synthetic flight data*, we can explore how different *base stress* $S_0$ affects the *travel utility* $U_t$ of the different flight routes. For these comparisons, we will set all the *flight parameters* to constant values, and simply change the $S_0$ value from **low**, to **moderate**, to **high**."
   ]
  },
  {
   "cell_type": "code",
   "execution_count": null,
   "id": "40f7b3bd-bdfb-4374-9332-710ce874a986",
   "metadata": {
    "editable": true,
    "execution": {
     "iopub.execute_input": "2025-04-12T21:16:07.277190Z",
     "iopub.status.busy": "2025-04-12T21:16:07.277000Z",
     "iopub.status.idle": "2025-04-12T21:16:07.286347Z",
     "shell.execute_reply": "2025-04-12T21:16:07.285744Z"
    },
    "slideshow": {
     "slide_type": ""
    },
    "tags": [
     "remove_input"
    ]
   },
   "outputs": [],
   "source": [
    "from matplotlib.colors import PowerNorm\n",
    "\n",
    "def plot_flight_paths_by_utility(\n",
    "    utility_data: pd.DataFrame,\n",
    "    fig_count: int,\n",
    "    fig_title: str,\n",
    "    jitter_strength: float = 0.3\n",
    ") -> Tuple[plt, pd.DataFrame, int]:\n",
    "    \"\"\"Plot flight paths from Bogota to Buenos Aires over a South America map.\"\"\"\n",
    "    fig, ax = plt.subplots(figsize=(22, 22))\n",
    "    ax.set_xlim([-85, -30])\n",
    "    ax.set_ylim([-60, 15])\n",
    "    ax.axis(\"off\")\n",
    "\n",
    "    south_america.plot(\n",
    "        ax=ax,\n",
    "        color=plt.cm.viridis(0.67),\n",
    "        edgecolor=\"#181818\",\n",
    "        linewidth=0.2,\n",
    "    )\n",
    "\n",
    "    # get the highest U_t scored flights for each route\n",
    "    best_routes = utility_data.loc[utility_data.groupby('Route')['U_t'].idxmax()]\n",
    "    \n",
    "    # sort by U_t greatest -> least\n",
    "    sorted_best_routes = best_routes.sort_values(by='U_t', ascending=False)\n",
    "\n",
    "    U_t_values = np.log1p(sorted_best_routes[\"U_t\"])\n",
    "    vmin, vmax = np.percentile(U_t_values, [5, 95])\n",
    "    norm = PowerNorm(gamma=0.5, vmin=vmin, vmax=vmax)\n",
    "    cmap = plt.cm.plasma\n",
    "\n",
    "    for _, row in sorted_best_routes.iterrows():\n",
    "        route = row[\"Route\"]\n",
    "        U_t = row[\"U_t\"]\n",
    "        coords = [subset_airport_codes[code][\"coords\"] for code in routes[route]]\n",
    "        \n",
    "        jittered_coords = [\n",
    "            (\n",
    "                lon + np.random.uniform(-jitter_strength, jitter_strength),\n",
    "                lat + np.random.uniform(-jitter_strength, jitter_strength),\n",
    "            )\n",
    "            for lon, lat in coords\n",
    "        ]\n",
    "\n",
    "        line = LineString(jittered_coords)\n",
    "        color = cmap(norm(np.log1p(U_t)))\n",
    "        ax.plot(\n",
    "            [pt[0] for pt in line.coords],\n",
    "            [pt[1] for pt in line.coords],\n",
    "            color=color,\n",
    "            linewidth=1.5,\n",
    "        )\n",
    "\n",
    "    airports_subset_bog_to_eze.plot(ax=ax, color=\"red\", markersize=50, edgecolor=\"black\")\n",
    "\n",
    "    texts = [\n",
    "        ax.text(\n",
    "            x, y, label, fontsize=8, ha=\"right\", color=\"black\",\n",
    "            bbox=dict(facecolor=\"white\", alpha=0.7)\n",
    "        )\n",
    "        for x, y, label in zip(\n",
    "            airports_subset_bog_to_eze.geometry.x,\n",
    "            airports_subset_bog_to_eze.geometry.y,\n",
    "            airports_subset_bog_to_eze[\"City\"],\n",
    "        )\n",
    "    ]\n",
    "\n",
    "    adjust_text(\n",
    "        texts,\n",
    "        expand=(1.2, 2),\n",
    "        arrowprops=dict(arrowstyle='->', color='red'),\n",
    "    )\n",
    "\n",
    "    sm = plt.cm.ScalarMappable(cmap=cmap, norm=norm)\n",
    "    sm.set_array([])\n",
    "    cbar = plt.colorbar(sm, ax=ax, orientation='horizontal', fraction=0.02, pad=0.04)\n",
    "    cbar.set_label('Travel Utility ($U_t$)', fontsize=10, color=\"white\")\n",
    "    cbar.set_ticks([])\n",
    "    cbar.ax.yaxis.set_tick_params(color='white')\n",
    "    plt.setp(plt.getp(cbar.ax.axes, 'yticklabels'), color='white')\n",
    "\n",
    "    plt.suptitle(\n",
    "        f\"Figure {fig_count}. {fig_title}\",\n",
    "        y=0.07,\n",
    "        fontsize=14,\n",
    "    )\n",
    "\n",
    "    # update fig count\n",
    "    fig_count += 1\n",
    "\n",
    "    # return figure, sorted routes, and updated fig count\n",
    "    return plt, sorted_best_routes, fig_count"
   ]
  },
  {
   "cell_type": "code",
   "execution_count": null,
   "id": "626c25c6-bd87-40b2-a1c7-61c6b8d65e4e",
   "metadata": {
    "editable": true,
    "execution": {
     "iopub.execute_input": "2025-04-12T21:16:07.288205Z",
     "iopub.status.busy": "2025-04-12T21:16:07.288027Z",
     "iopub.status.idle": "2025-04-12T21:16:07.291381Z",
     "shell.execute_reply": "2025-04-12T21:16:07.290891Z"
    },
    "slideshow": {
     "slide_type": ""
    },
    "tags": [
     "remove_input"
    ]
   },
   "outputs": [],
   "source": [
    "# generate flight params for stress effect comparisons\n",
    "stress_fx_flight_params = list(\n",
    "    generate_flight_parameters(\n",
    "        routes=subset_routes,\n",
    "        airlines=[\"Avianca\"],\n",
    "        travel_class=[\"Economy\"],\n",
    "        day_of_week=[\"Sun\"],\n",
    "        month=[\"Apr\"],\n",
    "        time_of_day=[\"Red-Eye\"],\n",
    "        weather=[\"Clear\"],\n",
    "        layover_times=[3],\n",
    "        lounge_types=[\"None\"],\n",
    "    )\n",
    ")"
   ]
  },
  {
   "cell_type": "code",
   "execution_count": null,
   "id": "c01ce07a-c606-4d37-8ae8-36c86687ceff",
   "metadata": {
    "editable": true,
    "execution": {
     "iopub.execute_input": "2025-04-12T21:16:07.293229Z",
     "iopub.status.busy": "2025-04-12T21:16:07.293055Z",
     "iopub.status.idle": "2025-04-12T21:16:07.805836Z",
     "shell.execute_reply": "2025-04-12T21:16:07.805284Z"
    },
    "slideshow": {
     "slide_type": ""
    },
    "tags": [
     "remove_input"
    ]
   },
   "outputs": [],
   "source": [
    "# get low stress util data\n",
    "low_stress_util_data = generate_flight_utility_data(\n",
    "    stress_fx_flight_params,\n",
    "    base_stress=\"low\",\n",
    "    k_scale=0.05,\n",
    "    utility_scale=1e8\n",
    ")\n",
    "\n",
    "# get plot\n",
    "low_stress_bog_eze_fig, low_stress_best_routes, fig_count = plot_flight_paths_by_utility(\n",
    "    low_stress_util_data,\n",
    "    fig_count,\n",
    "    \"Bogota to Buenos Aires Flight Paths Colored by $U_t$ for Low Stress.\"\n",
    ")\n",
    "\n",
    "# plot\n",
    "low_stress_bog_eze_fig.show()"
   ]
  },
  {
   "cell_type": "markdown",
   "id": "636c2469-e3ba-436c-8705-ab8f81d162f3",
   "metadata": {},
   "source": [
    "In *figure 5* above we can see that with $S_0$ being set to **low** stress (i.e. $S_0 = 1$) the highest *travel utility* flight route is the *direct flight* straight from *BOG* to *EZE*. The question is of course why?"
   ]
  },
  {
   "cell_type": "code",
   "execution_count": null,
   "id": "3ea24d5d-853d-4626-80b6-616929c5875f",
   "metadata": {
    "editable": true,
    "execution": {
     "iopub.execute_input": "2025-04-12T21:16:07.808868Z",
     "iopub.status.busy": "2025-04-12T21:16:07.808644Z",
     "iopub.status.idle": "2025-04-12T21:16:07.818060Z",
     "shell.execute_reply": "2025-04-12T21:16:07.817607Z"
    },
    "slideshow": {
     "slide_type": ""
    },
    "tags": [
     "remove_input"
    ]
   },
   "outputs": [],
   "source": [
    "# show low stress best routes\n",
    "print_split_dataframe(low_stress_best_routes)"
   ]
  },
  {
   "cell_type": "markdown",
   "id": "103aa5da-4df4-415d-8e2f-2ae20ccfa684",
   "metadata": {},
   "source": [
    "Looking at the above *travel utility* data for *figure 5* we see that the *direct flight* has the lowest $D_{\\text{actual}}$ (which means the *distance efficiency* $E_D$ is the highest), the lowest *total stress* $S_{\\text{total}}$ (because of the lack of layovers), and the lowest cost $M$. So basically when the *base stress* $S_0$ is low, then the *travel utility* $U_t$ is dominated by the *distance*, the *layovers* and the *price*.\n",
    "\n",
    "Now let us consider the scenario where *base stress* $S_0$ is **moderate** (i.e. $S_0 = 5$)."
   ]
  },
  {
   "cell_type": "code",
   "execution_count": null,
   "id": "3b0b9884-9a41-482c-89fd-d1eb96f5aff0",
   "metadata": {
    "editable": true,
    "execution": {
     "iopub.execute_input": "2025-04-12T21:16:07.820104Z",
     "iopub.status.busy": "2025-04-12T21:16:07.819918Z",
     "iopub.status.idle": "2025-04-12T21:16:08.312478Z",
     "shell.execute_reply": "2025-04-12T21:16:08.311972Z"
    },
    "slideshow": {
     "slide_type": ""
    },
    "tags": [
     "remove_input"
    ]
   },
   "outputs": [],
   "source": [
    "# get moderate stress util data\n",
    "moderate_stress_util_data = generate_flight_utility_data(\n",
    "    stress_fx_flight_params,\n",
    "    base_stress=\"moderate\",\n",
    "    k_scale=0.05,\n",
    "    utility_scale=1e8\n",
    ")\n",
    "\n",
    "# get plot\n",
    "mod_stress_bog_eze_fig, mod_stress_best_routes, fig_count = plot_flight_paths_by_utility(\n",
    "    moderate_stress_util_data,\n",
    "    fig_count,\n",
    "    \"Bogota to Buenos Aires Flight Paths Colored by $U_t$ for Moderate Stress.\"\n",
    ")\n",
    "\n",
    "# plot\n",
    "mod_stress_bog_eze_fig.show()"
   ]
  },
  {
   "cell_type": "markdown",
   "id": "26291886-119f-47d0-af24-54c51f7bdf79",
   "metadata": {},
   "source": [
    "In *figure 6* above, now that the *base stress* is set to **moderate**, we see the *direct flight* no longer has the highest *travel utility*."
   ]
  },
  {
   "cell_type": "code",
   "execution_count": null,
   "id": "aaaeb102-4a15-4fb7-bd78-7cb29572a4c5",
   "metadata": {
    "editable": true,
    "execution": {
     "iopub.execute_input": "2025-04-12T21:16:08.315403Z",
     "iopub.status.busy": "2025-04-12T21:16:08.315203Z",
     "iopub.status.idle": "2025-04-12T21:16:08.324587Z",
     "shell.execute_reply": "2025-04-12T21:16:08.324082Z"
    },
    "slideshow": {
     "slide_type": ""
    },
    "tags": [
     "remove_input"
    ]
   },
   "outputs": [],
   "source": [
    "# print moderate stress util data\n",
    "print_split_dataframe(mod_stress_best_routes)"
   ]
  },
  {
   "cell_type": "markdown",
   "id": "a8943707-a860-4d0d-8e12-867ac39c1047",
   "metadata": {},
   "source": [
    "We can see immediately that the *direct flight* has the highest $S_{\\text{total}}$ value, and the lowest $S_{\\text{layover}}$, though still maintaining the highest $E_D$ value. Also notice that there are flights that have a higher $T_{\\text{flight}}$, but have a higher $U_t$ value. Why is that? Because those flights have less *continuous flight time*, which is exactly why their $S_{\\text{total}}$ is lower than the *direct flight*.\n",
    "\n",
    "This fits the *intuition* about stress $S$ when it comes to travel: the sum of the whole is greater than the sum of the parts. The *stress* is not the same for a trip of 6 hours continuous travel, versus a trip of 3 hours travel, 3 hours break, 3 hours travel etc ... and this is exactly what we expect to see when modeling $S$ related to travel.\n",
    "\n",
    "Finally let us take a look at **high** stress travelers (i.e. $S_0 = 8$)."
   ]
  },
  {
   "cell_type": "code",
   "execution_count": null,
   "id": "6e2aafd7-6660-4f4e-bb84-2ffbceb5b02c",
   "metadata": {
    "editable": true,
    "execution": {
     "iopub.execute_input": "2025-04-12T21:16:08.326617Z",
     "iopub.status.busy": "2025-04-12T21:16:08.326455Z",
     "iopub.status.idle": "2025-04-12T21:16:08.865951Z",
     "shell.execute_reply": "2025-04-12T21:16:08.865390Z"
    },
    "slideshow": {
     "slide_type": ""
    },
    "tags": [
     "remove_input"
    ]
   },
   "outputs": [],
   "source": [
    "# get high stress util data\n",
    "high_stress_util_data = generate_flight_utility_data(\n",
    "    stress_fx_flight_params,\n",
    "    base_stress=\"high\",\n",
    "    k_scale=0.05,\n",
    "    utility_scale=1e10\n",
    ")\n",
    "\n",
    "# get plot\n",
    "high_stress_bog_eze_fig, high_stress_best_routes, fig_count = plot_flight_paths_by_utility(\n",
    "    high_stress_util_data,\n",
    "    fig_count,\n",
    "    \"Bogota to Buenos Aires Flight Paths Colored by $U_t$ for High Stress.\"\n",
    ")\n",
    "\n",
    "# plot\n",
    "high_stress_bog_eze_fig.show()"
   ]
  },
  {
   "cell_type": "markdown",
   "id": "abd24fda-bcc5-4693-b72f-94a04dcf47e5",
   "metadata": {},
   "source": [
    "Finally in *figure 7* with the *base stress* set to **high**, we have complete *dominance* of the stress term $S$, and multiple layovers are valued at a higher *travel utility* $U_t$, simply because they reduce the $S_{\\text{flight}}$."
   ]
  },
  {
   "cell_type": "code",
   "execution_count": null,
   "id": "2cf0bc9b-7e37-45b9-8103-44af39db6a62",
   "metadata": {
    "editable": true,
    "execution": {
     "iopub.execute_input": "2025-04-12T21:16:08.869043Z",
     "iopub.status.busy": "2025-04-12T21:16:08.868825Z",
     "iopub.status.idle": "2025-04-12T21:16:08.877476Z",
     "shell.execute_reply": "2025-04-12T21:16:08.876936Z"
    },
    "slideshow": {
     "slide_type": ""
    },
    "tags": [
     "remove_input"
    ]
   },
   "outputs": [],
   "source": [
    "# print high stress util data\n",
    "print_split_dataframe(high_stress_best_routes)"
   ]
  },
  {
   "cell_type": "markdown",
   "id": "4d392cfa-7c29-4834-b10c-4c7f231458bd",
   "metadata": {},
   "source": [
    "We can now see from *figure 7* and the *utility data* above that routes with the *highest continuous flight times* are ranked at the bottom (i.e. *Via Santiago*, *Direct Flight*, and *Via São Paulo*). Whereas flight routes with the lowest $D_{\\text{actual}}$, and the *lowest continuous flight times* (which lowers $S_{\\text{flight}}$) are competing at the top (i.e. *Via Lima & Santa Cruz*, *Via Lima & Santiago*, and *Via Santa Cruz*)."
   ]
  },
  {
   "cell_type": "markdown",
   "id": "04eade87-1b25-4ae6-b0bf-9593f770f0ee",
   "metadata": {},
   "source": [
    "## Stress Growth Rate ($k$) effects\n",
    "We have seen the *significant* influence that the *base stress* $S_0$ can produce on the *travel utility* $U_t$. Now we will focus on purely considering how the *stress growth rate* $k$ can affect $U_t$. We will consider basically the *highest* and *lowest* $k$ possible (i.e. the *worst* and *best* possible conditions) for travelers of different *base stress* $S_0$.\n",
    "\n",
    "First we will consider the **worst** case scenario for our **low** stress traveler."
   ]
  },
  {
   "cell_type": "code",
   "execution_count": null,
   "id": "f6378b4e-eda1-481e-acc3-32246e8af1b5",
   "metadata": {
    "editable": true,
    "execution": {
     "iopub.execute_input": "2025-04-12T21:16:08.879605Z",
     "iopub.status.busy": "2025-04-12T21:16:08.879410Z",
     "iopub.status.idle": "2025-04-12T21:16:08.883459Z",
     "shell.execute_reply": "2025-04-12T21:16:08.882762Z"
    },
    "slideshow": {
     "slide_type": ""
    },
    "tags": [
     "remove_input"
    ]
   },
   "outputs": [],
   "source": [
    "# get the best (i.e. lowest) total k\n",
    "k_best_fx_flight_params = list(\n",
    "    generate_flight_parameters(\n",
    "        routes=subset_routes,\n",
    "        airlines=[\"Viva Air\"],\n",
    "        travel_class=[\"First Class\"],\n",
    "        day_of_week=[\"Sun\"],\n",
    "        month=[\"Oct\"],\n",
    "        time_of_day=[\"Red-Eye\"],\n",
    "        weather=[\"Clear\"],\n",
    "        layover_times=[3],\n",
    "        lounge_types=[\"Private Room\"],\n",
    "    )\n",
    ")\n",
    "\n",
    "# get the worst (i.e. highest) total k\n",
    "k_worst_fx_flight_params = list(\n",
    "    generate_flight_parameters(\n",
    "        routes=subset_routes,\n",
    "        airlines=[\"Jetsmart\"],\n",
    "        travel_class=[\"Economy\"],\n",
    "        day_of_week=[\"Fri\"],\n",
    "        month=[\"Jul\"],\n",
    "        time_of_day=[\"Morning\"],\n",
    "        weather=[\"Stormy\"],\n",
    "        layover_times=[3],\n",
    "        lounge_types=[\"None\"],\n",
    "    )\n",
    ")"
   ]
  },
  {
   "cell_type": "code",
   "execution_count": null,
   "id": "2c6ed06f-5654-4dff-ae5e-e267fbdb2089",
   "metadata": {
    "editable": true,
    "execution": {
     "iopub.execute_input": "2025-04-12T21:16:08.885653Z",
     "iopub.status.busy": "2025-04-12T21:16:08.885450Z",
     "iopub.status.idle": "2025-04-12T21:16:09.403261Z",
     "shell.execute_reply": "2025-04-12T21:16:09.402628Z"
    },
    "slideshow": {
     "slide_type": ""
    },
    "tags": [
     "remove_input"
    ]
   },
   "outputs": [],
   "source": [
    "# get low stress util data\n",
    "low_stress_high_k_util_data = generate_flight_utility_data(\n",
    "    k_worst_fx_flight_params,\n",
    "    base_stress=\"low\",\n",
    "    k_scale=0.05,\n",
    "    utility_scale=1e8\n",
    ")\n",
    "\n",
    "# get plot\n",
    "low_stress_high_k_bog_eze_fig, low_stress_high_k_best_routes, fig_count = plot_flight_paths_by_utility(\n",
    "    low_stress_high_k_util_data,\n",
    "    fig_count,\n",
    "    \"Bogota to Buenos Aires Flight Paths Colored by $U_t$ for Low $S_0$ / High $k$.\"\n",
    ")\n",
    "\n",
    "# plot\n",
    "low_stress_high_k_bog_eze_fig.show()"
   ]
  },
  {
   "cell_type": "markdown",
   "id": "8ff1625d-abe6-4979-a715-97391bbc3e02",
   "metadata": {},
   "source": [
    "What *figure 8* above shows us, is that with a sufficiently **high** $k$ the *travel utility* of reducing the *continuous flight time* begins to increase. We can see this in the corresponding data."
   ]
  },
  {
   "cell_type": "code",
   "execution_count": null,
   "id": "39b577da-acbd-4922-8933-a8ed72f0f4ea",
   "metadata": {
    "editable": true,
    "execution": {
     "iopub.execute_input": "2025-04-12T21:16:09.406166Z",
     "iopub.status.busy": "2025-04-12T21:16:09.405930Z",
     "iopub.status.idle": "2025-04-12T21:16:09.414855Z",
     "shell.execute_reply": "2025-04-12T21:16:09.414352Z"
    },
    "slideshow": {
     "slide_type": ""
    },
    "tags": [
     "remove_input"
    ]
   },
   "outputs": [],
   "source": [
    "# print low stress high k util data\n",
    "print_split_dataframe(low_stress_high_k_best_routes)"
   ]
  },
  {
   "cell_type": "markdown",
   "id": "6f74e9db-9066-4b20-a853-6d41b3aefc35",
   "metadata": {},
   "source": [
    "We can see that, while the *ranking* of the routes remains mostly unchanged compared to *figure 5* (except that the *Via São Paulo* route dropped quite a bit), the *difference* in $U_t$ of the top two ranked routes is now *smaller* (about 300 *utility units* vs. about 2000 *utility units* previously). What this suggests, is that even for the **low** stress traveler, at least one layover (e.g. the *Via Santa Cruz* route) becomes a far more favorable option when the conditions are significantly *unfavorable*.\n",
    "\n",
    "Now let us consider the **best** case scenario (i.e. *low* $k$) for our **high** stress traveler."
   ]
  },
  {
   "cell_type": "code",
   "execution_count": null,
   "id": "8f28955b-1b57-4820-939d-772f03519a20",
   "metadata": {
    "editable": true,
    "execution": {
     "iopub.execute_input": "2025-04-12T21:16:09.416870Z",
     "iopub.status.busy": "2025-04-12T21:16:09.416706Z",
     "iopub.status.idle": "2025-04-12T21:16:09.899845Z",
     "shell.execute_reply": "2025-04-12T21:16:09.899186Z"
    },
    "slideshow": {
     "slide_type": ""
    },
    "tags": [
     "remove_input"
    ]
   },
   "outputs": [],
   "source": [
    "# get low stress util data\n",
    "high_stress_low_k_util_data = generate_flight_utility_data(\n",
    "    k_best_fx_flight_params,\n",
    "    base_stress=\"high\",\n",
    "    k_scale=0.05,\n",
    "    utility_scale=1e10\n",
    ")\n",
    "\n",
    "# get plot\n",
    "high_stress_low_k_bog_eze_fig, high_stress_low_k_best_routes, fig_count = plot_flight_paths_by_utility(\n",
    "    high_stress_low_k_util_data,\n",
    "    fig_count,\n",
    "    \"Bogota to Buenos Aires Flight Paths Colored by $U_t$ for High $S_0$ / Low $k$.\"\n",
    ")\n",
    "\n",
    "# plot\n",
    "high_stress_low_k_bog_eze_fig.show()"
   ]
  },
  {
   "cell_type": "markdown",
   "id": "efaea60a-b741-4d7d-b655-b34f0726b365",
   "metadata": {},
   "source": [
    "The results of *figure 9* for the **high** $S_0$ and **low** $k$ indicate that for the *high stress* traveler, not much changes about the *ranking* of the flight routes even with the most favorable *k* possible."
   ]
  },
  {
   "cell_type": "code",
   "execution_count": null,
   "id": "9ac64af4-ab90-4cdc-a964-000788e742b4",
   "metadata": {
    "editable": true,
    "execution": {
     "iopub.execute_input": "2025-04-12T21:16:09.902857Z",
     "iopub.status.busy": "2025-04-12T21:16:09.902648Z",
     "iopub.status.idle": "2025-04-12T21:16:09.911700Z",
     "shell.execute_reply": "2025-04-12T21:16:09.911059Z"
    },
    "slideshow": {
     "slide_type": ""
    },
    "tags": [
     "remove_input"
    ]
   },
   "outputs": [],
   "source": [
    "# print high stress low k util data\n",
    "print_split_dataframe(high_stress_low_k_best_routes)"
   ]
  },
  {
   "cell_type": "markdown",
   "id": "569e9a18-d06d-402a-9b31-4351d89a9604",
   "metadata": {},
   "source": [
    "The corresponding data for *figure 9* corroborates this same conclusion. Interestingly the *Direct Flight* route actually becomes more favorable with *lower* $k$ compared to the data for *figure 7*. At first glance this might seem odd, but on closer inspection we can see that the *lower* $k$ value means that the *Direct Flight* is more tolerable, but the increased **distance** and **cost** ($M$) of the *Via Santiago* and *Via São Paulo* routes is now less *tolerable*. A subtle but crucial scenario is illustrated by this data: sometimes a *litte bit* more stress is better than a much longer and more expensive trip.\n",
    "\n",
    "Also we can see that the actual $U_t$ values are lower for the data used in *figure 9* vs. *figure 7*, and this is due to the *significantly* higher $M$ value (i.e. cost) that is required for some of these more *\"premium\"* options (better airline, ticket class, and layover experience).\n",
    "\n",
    "And finally let us look at **moderate** stress travelers, and how they handle the **best** and **worst** scenarios, staring with the **best** scenario (i.e. *low* $k$)."
   ]
  },
  {
   "cell_type": "code",
   "execution_count": null,
   "id": "cb3dd687-bade-44c5-8bcc-d2a56f872b57",
   "metadata": {
    "editable": true,
    "execution": {
     "iopub.execute_input": "2025-04-12T21:16:09.913866Z",
     "iopub.status.busy": "2025-04-12T21:16:09.913684Z",
     "iopub.status.idle": "2025-04-12T21:16:10.403540Z",
     "shell.execute_reply": "2025-04-12T21:16:10.402886Z"
    },
    "slideshow": {
     "slide_type": ""
    },
    "tags": [
     "remove_input"
    ]
   },
   "outputs": [],
   "source": [
    "# get low stress util data\n",
    "mod_stress_low_k_util_data = generate_flight_utility_data(\n",
    "    k_best_fx_flight_params,\n",
    "    base_stress=\"moderate\",\n",
    "    k_scale=0.05,\n",
    "    utility_scale=1e8\n",
    ")\n",
    "\n",
    "# get plot\n",
    "mod_stress_low_k_bog_eze_fig, mod_stress_low_k_best_routes, fig_count = plot_flight_paths_by_utility(\n",
    "    mod_stress_low_k_util_data,\n",
    "    fig_count,\n",
    "    \"Bogota to Buenos Aires Flight Paths Colored by $U_t$ for Moderate $S_0$ / Low $k$.\"\n",
    ")\n",
    "\n",
    "# plot\n",
    "mod_stress_low_k_bog_eze_fig.show()"
   ]
  },
  {
   "cell_type": "markdown",
   "id": "a0e73216-2d12-4ea6-9410-dabd3d1e56a6",
   "metadata": {},
   "source": [
    "Not much actually changes in this scenario for the **moderate** stress traveler with a **low** $k$ (shown in *figure 10*. In fact it is relatively similar to what we see in *figure 6*. The only change is simply the higher cost ($M$) reduces the $U_t$ value for all routes."
   ]
  },
  {
   "cell_type": "code",
   "execution_count": null,
   "id": "d58c4da5-7d3e-4df4-bc9b-d449642a899c",
   "metadata": {
    "editable": true,
    "execution": {
     "iopub.execute_input": "2025-04-12T21:16:10.406854Z",
     "iopub.status.busy": "2025-04-12T21:16:10.406638Z",
     "iopub.status.idle": "2025-04-12T21:16:10.415785Z",
     "shell.execute_reply": "2025-04-12T21:16:10.415204Z"
    },
    "slideshow": {
     "slide_type": ""
    },
    "tags": [
     "remove_input"
    ]
   },
   "outputs": [],
   "source": [
    "# print moderate stress low k util data\n",
    "print_split_dataframe(mod_stress_low_k_best_routes)"
   ]
  },
  {
   "cell_type": "markdown",
   "id": "7bc71614-bf00-4118-997d-74d216051766",
   "metadata": {},
   "source": [
    "But what about for **moderate** stress and **high** $k$?"
   ]
  },
  {
   "cell_type": "code",
   "execution_count": null,
   "id": "fab3ea96-7e45-44ce-8394-fbc7fca27dba",
   "metadata": {
    "editable": true,
    "execution": {
     "iopub.execute_input": "2025-04-12T21:16:10.417988Z",
     "iopub.status.busy": "2025-04-12T21:16:10.417771Z",
     "iopub.status.idle": "2025-04-12T21:16:10.913534Z",
     "shell.execute_reply": "2025-04-12T21:16:10.912902Z"
    },
    "slideshow": {
     "slide_type": ""
    },
    "tags": [
     "remove_input"
    ]
   },
   "outputs": [],
   "source": [
    "# get low stress util data\n",
    "mod_stress_high_k_util_data = generate_flight_utility_data(\n",
    "    k_worst_fx_flight_params,\n",
    "    base_stress=\"moderate\",\n",
    "    k_scale=0.05,\n",
    "    utility_scale=1e10\n",
    ")\n",
    "\n",
    "# get plot\n",
    "mod_stress_high_k_bog_eze_fig, mod_stress_high_k_best_routes, fig_count = plot_flight_paths_by_utility(\n",
    "    mod_stress_high_k_util_data,\n",
    "    fig_count,\n",
    "    \"Bogota to Buenos Aires Flight Paths Colored by $U_t$ for Moderate $S_0$ / High $k$.\"\n",
    ")\n",
    "\n",
    "# plot\n",
    "mod_stress_high_k_bog_eze_fig.show()"
   ]
  },
  {
   "cell_type": "markdown",
   "id": "92081021-3724-48e7-b0b1-d9b2a69ab09a",
   "metadata": {},
   "source": [
    "What actually seems to happen to **moderate** stress travelers who are traveling in a **high** $k$ scenario, is that the relative *route rankings* begins to look like what we see in **high** stress travelers (shown in *figure 7*)."
   ]
  },
  {
   "cell_type": "code",
   "execution_count": null,
   "id": "e83b2c55-4b9d-4482-9e09-957ee04bfab2",
   "metadata": {
    "editable": true,
    "execution": {
     "iopub.execute_input": "2025-04-12T21:16:10.916572Z",
     "iopub.status.busy": "2025-04-12T21:16:10.916365Z",
     "iopub.status.idle": "2025-04-12T21:16:10.925284Z",
     "shell.execute_reply": "2025-04-12T21:16:10.924690Z"
    },
    "slideshow": {
     "slide_type": ""
    },
    "tags": [
     "remove_input"
    ]
   },
   "outputs": [],
   "source": [
    "# print moderate stress high k util data\n",
    "print_split_dataframe(mod_stress_high_k_best_routes)"
   ]
  },
  {
   "cell_type": "markdown",
   "id": "5ef54645-9b58-423c-b560-0a52cecd34ba",
   "metadata": {},
   "source": [
    "This makes sense when we consider the *structure* of the *stress equation*:\n",
    "\n",
    "$$\n",
    "S = S_0 e^{S_0kT}\n",
    "$$\n",
    "\n",
    "The *exponent* term can either be increased by $S_0$, $k$, or $T$. So even if $S_0$ is low, we can still increase the growth rate to a point where it is *comparable* to a *high stress* individual. To put it a bit more *mathematically*:\n",
    "\n",
    "$$\n",
    "\\begin{aligned}\n",
    "S_0 e^{S_0kT} \\\\\n",
    "S_0 e^{5\\cdot8\\cdot1} \\\\\n",
    "S_0 e^{8\\cdot5\\cdot1}\n",
    "\\end{aligned}\n",
    "$$\n",
    "\n",
    "In other words a **high** stress individual (with $S_0 = 8$, $k = 5$, and $T =1$) will have the same stress as a **moderate** stress individual (with $S_0 = 5$, $k = 8$, and $T = 1$)."
   ]
  },
  {
   "cell_type": "markdown",
   "id": "59ea133b-7ea7-430a-9002-bfb34fcb6cdb",
   "metadata": {},
   "source": [
    "## Layover ($T_{\\text{layover}}$) Effects\n",
    "The final section we will be discussing involves looking at how the *layover times* (i.e. $T_{\\text{layover}}$) affect the $U_t$ and the relative *route rankings*. In our discussion we will be asking this key question: is there a point where the *layovers* are too long that they are no longer an *advantage* and are now simply a *cost*? Previously we have seen that as the *total stress* $S_{\\text{flight}}$ increases, there is more preference for *layovers*. Of course this is because they only **interrupt** the *continuous* flight stress. But what happens as those layover times increase?\n",
    "\n",
    "Let us focus our attention on the **high** stress traveler, since they are the ones who benefit most from the layovers. First we will consider the **3 hour** layover scenario, with the highest $k$ (which will serve more as a *baseline*)."
   ]
  },
  {
   "cell_type": "code",
   "execution_count": null,
   "id": "d91cc9d6-2c9d-4711-aab7-60ae3fee81ae",
   "metadata": {
    "editable": true,
    "execution": {
     "iopub.execute_input": "2025-04-12T21:16:10.927548Z",
     "iopub.status.busy": "2025-04-12T21:16:10.927349Z",
     "iopub.status.idle": "2025-04-12T21:16:11.421337Z",
     "shell.execute_reply": "2025-04-12T21:16:11.420655Z"
    },
    "slideshow": {
     "slide_type": ""
    },
    "tags": [
     "remove_input"
    ]
   },
   "outputs": [],
   "source": [
    "# get flight params for k worst 3 hours\n",
    "k_worst_3hr_layover_fx_flight_params = list(\n",
    "    generate_flight_parameters(\n",
    "        routes=subset_routes,\n",
    "        airlines=[\"Jetsmart\"],\n",
    "        travel_class=[\"Economy\"],\n",
    "        day_of_week=[\"Fri\"],\n",
    "        month=[\"Jul\"],\n",
    "        time_of_day=[\"Morning\"],\n",
    "        weather=[\"Stormy\"],\n",
    "        layover_times=[3],\n",
    "        lounge_types=[\"None\"],\n",
    "    )\n",
    ")\n",
    "\n",
    "# get low stress util data\n",
    "high_stress_high_k_3hr_util_data = generate_flight_utility_data(\n",
    "    k_worst_3hr_layover_fx_flight_params,\n",
    "    base_stress=\"high\",\n",
    "    k_scale=0.05,\n",
    "    utility_scale=1e12\n",
    ")\n",
    "\n",
    "# get plot\n",
    "high_stress_high_k_3hr_bog_eze_fig, high_stress_high_k_3hr_best_routes, fig_count = plot_flight_paths_by_utility(\n",
    "    high_stress_high_k_3hr_util_data,\n",
    "    fig_count,\n",
    "    \"Bogota to Buenos Aires Flight Paths Colored by $U_t$ for High $S_0$ / High $k$ / 3 Hour Layovers\"\n",
    ")\n",
    "\n",
    "# plot\n",
    "high_stress_high_k_3hr_bog_eze_fig.show()"
   ]
  },
  {
   "cell_type": "markdown",
   "id": "7c343254-1a8c-4768-ac1d-7eed739d76f4",
   "metadata": {},
   "source": [
    "So as we would expect, the highest ranked routes still have *layovers*."
   ]
  },
  {
   "cell_type": "code",
   "execution_count": null,
   "id": "5435a20a-c140-4b49-97af-5fe7be8d674f",
   "metadata": {
    "editable": true,
    "execution": {
     "iopub.execute_input": "2025-04-12T21:16:11.424546Z",
     "iopub.status.busy": "2025-04-12T21:16:11.424328Z",
     "iopub.status.idle": "2025-04-12T21:16:11.433534Z",
     "shell.execute_reply": "2025-04-12T21:16:11.432958Z"
    },
    "slideshow": {
     "slide_type": ""
    },
    "tags": [
     "remove_input"
    ]
   },
   "outputs": [],
   "source": [
    "# print high stress high k 3hr layover util data\n",
    "print_split_dataframe(high_stress_high_k_3hr_best_routes)"
   ]
  },
  {
   "cell_type": "markdown",
   "id": "7f3d28ac-27ef-4072-b09d-09b23aed624b",
   "metadata": {},
   "source": [
    "The corresponding data for *figure 12* above corroborates this conclusion: 3 hour layovers are short enough to contribute less *total stress* than *continous flights*. Hence the routes with the most layovers *dominates* the *route rankings* in this scenario.\n",
    "\n",
    "Now let us increase the *layover time* to **6 hours** and see what changes."
   ]
  },
  {
   "cell_type": "code",
   "execution_count": null,
   "id": "2d9c5198-069b-4d74-a1db-a93f7e23f341",
   "metadata": {
    "editable": true,
    "execution": {
     "iopub.execute_input": "2025-04-12T21:16:11.435596Z",
     "iopub.status.busy": "2025-04-12T21:16:11.435397Z",
     "iopub.status.idle": "2025-04-12T21:16:11.922418Z",
     "shell.execute_reply": "2025-04-12T21:16:11.921753Z"
    },
    "slideshow": {
     "slide_type": ""
    },
    "tags": [
     "remove_input"
    ]
   },
   "outputs": [],
   "source": [
    "# get flight params for k worst 6 hours\n",
    "k_worst_6hr_layover_fx_flight_params = list(\n",
    "    generate_flight_parameters(\n",
    "        routes=subset_routes,\n",
    "        airlines=[\"Jetsmart\"],\n",
    "        travel_class=[\"Economy\"],\n",
    "        day_of_week=[\"Fri\"],\n",
    "        month=[\"Jul\"],\n",
    "        time_of_day=[\"Morning\"],\n",
    "        weather=[\"Stormy\"],\n",
    "        layover_times=[6],\n",
    "        lounge_types=[\"None\"],\n",
    "    )\n",
    ")\n",
    "\n",
    "# get low stress util data\n",
    "high_stress_high_k_6hr_util_data = generate_flight_utility_data(\n",
    "    k_worst_6hr_layover_fx_flight_params,\n",
    "    base_stress=\"high\",\n",
    "    k_scale=0.05,\n",
    "    utility_scale=1e12\n",
    ")\n",
    "\n",
    "# get plot\n",
    "high_stress_high_k_6hr_bog_eze_fig, high_stress_high_k_6hr_best_routes, fig_count = plot_flight_paths_by_utility(\n",
    "    high_stress_high_k_6hr_util_data,\n",
    "    fig_count,\n",
    "    \"Bogota to Buenos Aires Flight Paths Colored by $U_t$ for High $S_0$ / High $k$ / 6 Hour Layovers\"\n",
    ")\n",
    "\n",
    "# plot\n",
    "high_stress_high_k_6hr_bog_eze_fig.show()"
   ]
  },
  {
   "cell_type": "markdown",
   "id": "37dc41c2-9443-4474-a37a-30e2f8d2873e",
   "metadata": {},
   "source": [
    "There still does not seem to be a lot of change. Let us look at the corresponding data and see what is happening."
   ]
  },
  {
   "cell_type": "code",
   "execution_count": null,
   "id": "80694238-dd27-48cc-978d-2ba2051d863a",
   "metadata": {
    "editable": true,
    "execution": {
     "iopub.execute_input": "2025-04-12T21:16:11.925450Z",
     "iopub.status.busy": "2025-04-12T21:16:11.925235Z",
     "iopub.status.idle": "2025-04-12T21:16:11.934395Z",
     "shell.execute_reply": "2025-04-12T21:16:11.933804Z"
    },
    "slideshow": {
     "slide_type": ""
    },
    "tags": [
     "remove_input"
    ]
   },
   "outputs": [],
   "source": [
    "# print high stress high k 6hr layover util data\n",
    "print_split_dataframe(high_stress_high_k_6hr_best_routes)"
   ]
  },
  {
   "cell_type": "markdown",
   "id": "6043d896-12fa-4e6b-983c-bcd864df2d99",
   "metadata": {},
   "source": [
    "In the data above we see that the relative *route rankings* have not changed (though the $U_t$ has decreased for each route). So even at **6 hours** the *layover time* and corresponding *layover stress* is not enough to *appreciably* change the *route rankings*.\n",
    "\n",
    "Finally let us look at the last of our series which is **9 hour** layovers."
   ]
  },
  {
   "cell_type": "code",
   "execution_count": null,
   "id": "f6b55a8e-8a5f-4383-a7ec-79bbc3e34303",
   "metadata": {
    "editable": true,
    "execution": {
     "iopub.execute_input": "2025-04-12T21:16:11.936541Z",
     "iopub.status.busy": "2025-04-12T21:16:11.936345Z",
     "iopub.status.idle": "2025-04-12T21:16:12.537203Z",
     "shell.execute_reply": "2025-04-12T21:16:12.536556Z"
    },
    "slideshow": {
     "slide_type": ""
    },
    "tags": [
     "remove_input"
    ]
   },
   "outputs": [],
   "source": [
    "# get flight params for k worst 9 hours\n",
    "k_worst_9hr_layover_fx_flight_params = list(\n",
    "    generate_flight_parameters(\n",
    "        routes=subset_routes,\n",
    "        airlines=[\"Jetsmart\"],\n",
    "        travel_class=[\"Economy\"],\n",
    "        day_of_week=[\"Fri\"],\n",
    "        month=[\"Jul\"],\n",
    "        time_of_day=[\"Morning\"],\n",
    "        weather=[\"Stormy\"],\n",
    "        layover_times=[9],\n",
    "        lounge_types=[\"None\"],\n",
    "    )\n",
    ")\n",
    "\n",
    "# get low stress util data\n",
    "high_stress_high_k_9hr_util_data = generate_flight_utility_data(\n",
    "    k_worst_9hr_layover_fx_flight_params,\n",
    "    base_stress=\"high\",\n",
    "    k_scale=0.05,\n",
    "    utility_scale=1e12\n",
    ")\n",
    "\n",
    "# get plot\n",
    "high_stress_high_k_9hr_bog_eze_fig, high_stress_high_k_9hr_best_routes, fig_count = plot_flight_paths_by_utility(\n",
    "    high_stress_high_k_9hr_util_data,\n",
    "    fig_count,\n",
    "    \"Bogota to Buenos Aires Flight Paths Colored by $U_t$ for High $S_0$ / High $k$ / 9 Hour Layovers\"\n",
    ")\n",
    "\n",
    "# plot\n",
    "high_stress_high_k_9hr_bog_eze_fig.show()"
   ]
  },
  {
   "cell_type": "markdown",
   "id": "ab5596ff-80a6-4e46-b916-c1c0897d0b4b",
   "metadata": {},
   "source": [
    "So indeed there is a point where *less layovers* starts to become an advantage. We can see that at about **9 hours** the highest ranked route switches from *Via Lima & Santa Cruz* to *Via Santa Cruz* (i.e. just skipping the *layover* in *Lima*)."
   ]
  },
  {
   "cell_type": "code",
   "execution_count": null,
   "id": "28bda0a9-bab3-4cd7-9d99-5acc0812d2fe",
   "metadata": {
    "editable": true,
    "execution": {
     "iopub.execute_input": "2025-04-12T21:16:12.539743Z",
     "iopub.status.busy": "2025-04-12T21:16:12.539566Z",
     "iopub.status.idle": "2025-04-12T21:16:12.548705Z",
     "shell.execute_reply": "2025-04-12T21:16:12.548176Z"
    },
    "slideshow": {
     "slide_type": ""
    },
    "tags": [
     "remove_input"
    ]
   },
   "outputs": [],
   "source": [
    "# print high stress high k 3hr layover util data\n",
    "print_split_dataframe(high_stress_high_k_9hr_best_routes)"
   ]
  },
  {
   "cell_type": "markdown",
   "id": "29d5f3a5-7a1e-4fda-bd41-63919cd6008d",
   "metadata": {},
   "source": [
    "Both the *Via Santa Cruz* and *Via Lima* are now the top two routes, and both routes have only **one layover**. This combined with *low distance* and *low cost* makes them the top ranked routes.\n",
    "\n",
    "As a bonus, let us consider the **best** $k$ scenario (i.e. *first class*, good *weather*, *low traffic*, etc ...)."
   ]
  },
  {
   "cell_type": "code",
   "execution_count": null,
   "id": "60630c15-abdc-4421-b123-4492223cc39b",
   "metadata": {
    "editable": true,
    "execution": {
     "iopub.execute_input": "2025-04-12T21:16:12.550693Z",
     "iopub.status.busy": "2025-04-12T21:16:12.550506Z",
     "iopub.status.idle": "2025-04-12T21:16:13.046517Z",
     "shell.execute_reply": "2025-04-12T21:16:13.045971Z"
    },
    "slideshow": {
     "slide_type": ""
    },
    "tags": [
     "remove_input"
    ]
   },
   "outputs": [],
   "source": [
    "# get flight params for k best 9 hours\n",
    "k_best_9hr_layover_fx_flight_params = list(\n",
    "    generate_flight_parameters(\n",
    "        routes=subset_routes,\n",
    "        airlines=[\"Viva Air\"],\n",
    "        travel_class=[\"First Class\"],\n",
    "        day_of_week=[\"Sun\"],\n",
    "        month=[\"Oct\"],\n",
    "        time_of_day=[\"Red-Eye\"],\n",
    "        weather=[\"Clear\"],\n",
    "        layover_times=[9],\n",
    "        lounge_types=[\"Private Room\"],\n",
    "    )\n",
    ")\n",
    "\n",
    "# get low stress util data\n",
    "high_stress_low_k_9hr_util_data = generate_flight_utility_data(\n",
    "    k_best_9hr_layover_fx_flight_params,\n",
    "    base_stress=\"high\",\n",
    "    k_scale=0.05,\n",
    "    utility_scale=1e12\n",
    ")\n",
    "\n",
    "# get plot\n",
    "high_stress_low_k_9hr_bog_eze_fig, high_stress_low_k_9hr_best_routes, fig_count = plot_flight_paths_by_utility(\n",
    "    high_stress_low_k_9hr_util_data,\n",
    "    fig_count,\n",
    "    \"Bogota to Buenos Aires Flight Paths Colored by $U_t$ for High $S_0$ / Low $k$ / 9 Hour Layovers\"\n",
    ")\n",
    "\n",
    "# plot\n",
    "high_stress_low_k_9hr_bog_eze_fig.show()"
   ]
  },
  {
   "cell_type": "markdown",
   "id": "c8a5815d-358d-4d1e-84a8-9b60e622d287",
   "metadata": {},
   "source": [
    "Looks like now we are back to the original *route rankings* when the *layover time* was only **3 hours**. How can that be?"
   ]
  },
  {
   "cell_type": "code",
   "execution_count": null,
   "id": "04d83e46-51be-4b78-b98f-04d291149fba",
   "metadata": {
    "editable": true,
    "execution": {
     "iopub.execute_input": "2025-04-12T21:16:13.049607Z",
     "iopub.status.busy": "2025-04-12T21:16:13.049415Z",
     "iopub.status.idle": "2025-04-12T21:16:13.057959Z",
     "shell.execute_reply": "2025-04-12T21:16:13.057503Z"
    },
    "slideshow": {
     "slide_type": ""
    },
    "tags": [
     "remove_input"
    ]
   },
   "outputs": [],
   "source": [
    "# print high stress low k 9hr layover util data\n",
    "print_split_dataframe(high_stress_low_k_9hr_best_routes)"
   ]
  },
  {
   "cell_type": "markdown",
   "id": "ee09514f-51f7-4cd9-b443-43312b5d5fa5",
   "metadata": {},
   "source": [
    "What seems to be happening is that, by purchasing all the *stress lowering* features (i.e. *first class*, and *private room*) the *layover stress* is much lower (as well as the *flight stress*). This naturally makes the *long layover times* more tolerable, and also hints at some *strategic consideration* for **long layovers** (e.g. purchasing a hotel room)."
   ]
  },
  {
   "cell_type": "markdown",
   "id": "e2855d57-8484-4d98-b8b4-c54d86141a9a",
   "metadata": {},
   "source": [
    "## Moral\n",
    "We have come a long way from defining the *travel utility function*, to generating some *realistic flight data*, to actually applying the utility function in our sample flight plan from *Bogota*, *Columbia*, to *Buenos Aires*, *Argentina* (i.e. *BOG* to *EZE* airports respectively). The most *crucial* part of the *travel utility function* is how to *model* the stress $S$. We were able to show that the stress is just a variation on the *continuously compounding* mathematics used extensively in *financial calculations* (e.g. calculating growth of some *appreciable asset* with some *growth rate* $r$ and some period of time $T$).\n",
    "\n",
    "And while we were able to explore some of the *effects* of the various parameters (e.g. $k$, $S_0$, and $T_{\\text{layover}}$) and their *consequences* there is still more to understand about the *strategy* involved in successful travel. Ideally a *\"portfolio\"* of *travel options* would be created to cover various *unknowable* or *random* variables (e.g. the weather, random technical malfunctions, etc ...) that massively alter the *travel utility* $U_t$ of a route (and now a *\"recalculation\"* of the *route rankings* is required). For example maybe the weather suddenly shifts, and the $k$ value goes up *significantly*, or some *mechanical failure* occurs that causes your **3 hour** layover to now be a **9 hour** layover, what do you do? These scenarios and many more will be the focus of a future article that will dive deep into the **travel strategy**, which will rely heavily on the *travel utility function* defined in this article in order to develop the **optimal travel strategy**."
   ]
  }
 ],
 "metadata": {
  "kernelspec": {
   "display_name": "Python 3 (ipykernel)",
   "language": "python",
   "name": "python3"
  },
  "language_info": {
   "codemirror_mode": {
    "name": "ipython",
    "version": 3
   },
   "file_extension": ".py",
   "mimetype": "text/x-python",
   "name": "python",
   "nbconvert_exporter": "python",
   "pygments_lexer": "ipython3",
   "version": "3.11.8"
  }
 },
 "nbformat": 4,
 "nbformat_minor": 5
}
