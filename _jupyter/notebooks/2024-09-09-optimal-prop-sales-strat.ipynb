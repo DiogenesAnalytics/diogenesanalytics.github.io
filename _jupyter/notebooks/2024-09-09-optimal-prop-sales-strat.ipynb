{
 "cells": [
  {
   "cell_type": "raw",
   "id": "7022ebcd-07ec-4274-9e8f-878db948fe6f",
   "metadata": {
    "editable": true,
    "raw_mimetype": "",
    "slideshow": {
     "slide_type": ""
    },
    "tags": []
   },
   "source": [
    "---\n",
    "layout: article\n",
    "title: Optimal Property Selling Option\n",
    "custom_css: article.css\n",
    "include_mathjax: true\n",
    "---"
   ]
  },
  {
   "cell_type": "markdown",
   "id": "7cc83cf7-e64f-429a-9a92-61a61ec3b31b",
   "metadata": {},
   "source": [
    "## Context\n",
    "When it comes time to sell your property, there really are only *3 types* of options available for you to use:\n",
    "1. Agents\n",
    "2. FSBO\n",
    "3. Cash Buyers\n",
    "\n",
    "To clarify, *option 1* simply involves working with a *real estate agent* to handle all the necessary work involved in selling *your* property. *Option 2* is literally **you** sell the property yourself (and handle all the necessary work), hence `FSBO` means *For Sale By Ower*. And finally, *option 3* involves selling the property directly to what is known as a *cash buyer* but is basically a *real estate investment* company. That is really what you are considering *when* you are looking to sell your property."
   ]
  },
  {
   "cell_type": "markdown",
   "id": "eb8d1a9f-ced8-4510-99b0-27259d0854b8",
   "metadata": {},
   "source": [
    "## Problem Defined\n",
    "But really, when we look at the underlying differences between these three **types** of options, we see that the differences are only *numerical*:\n",
    "\n",
    "$$\n",
    "\\begin{align*}\n",
    "P_{agent} &= C_m \\cdot (1 - (c_a + c_{closing})) \\\\\n",
    "P_{fsbo} &= C_m \\cdot (1 - (c_b + c_{closing})) \\\\\n",
    "P_{cash} &= C_m \\cdot ( 1 - (d_c + c_{closing}))\n",
    "\\end{align*}\n",
    "$$\n",
    "\n",
    "The different $P$ values stand for *profit* made from selling the property (e.g. profit from selling with an *agent* vs. *fsbo* vs. *cash buyer*). The $C_m$ is the *market value* of your property, and the $c_a$ and $c_b$ variables are the *buyer* and *seller* agent commissions. Finally the $d_c$ value is the *discount %* that the *cash buyer* will take (i.e. the *percent difference* between the price they offer you and the market value $C_m$).\n",
    "\n",
    "We can further simplify things by expressing this in terms of a *system of linear equations*:\n",
    "\n",
    "$$\n",
    "\\mathbf{P} = C_m \\cdot \n",
    "\\begin{bmatrix} \n",
    "1 - (c_a + c_{\\text{closing}}) \\\\\n",
    "1 - (c_b + c_{\\text{closing}}) \\\\\n",
    "1 - (d_c + c_{\\text{closing}})\n",
    "\\end{bmatrix}\n",
    "$$\n",
    "\n",
    "Where $P$ is the *profit vector*:\n",
    "\n",
    "$$\n",
    "\\mathbf{P} = \n",
    "\\begin{bmatrix} \n",
    "P_{\\text{agent}} \\\\ \n",
    "P_{\\text{fsbo}} \\\\ \n",
    "P_{\\text{cash}} \n",
    "\\end{bmatrix}\n",
    "$$"
   ]
  },
  {
   "cell_type": "markdown",
   "id": "92a1df55-7eb2-4fc3-946e-13a4657c29c4",
   "metadata": {
    "editable": true,
    "slideshow": {
     "slide_type": ""
    },
    "tags": []
   },
   "source": [
    "## Maximum Profit\n",
    "The simplest application of the above *problem definition* is to find the *maximum element* in the *profit vector* $\\mathbf{P}$:\n",
    "\n",
    "$$\n",
    "\\max(\\mathbf{P}) = \\max\n",
    "\\begin{bmatrix} \n",
    "p_1 \\\\\n",
    "p_2 \\\\\n",
    "p_3 \\\\\n",
    "p_4 \\\\\n",
    "\\vdots\n",
    "\\end{bmatrix}\n",
    "$$\n",
    "\n",
    "Now imagine we have *multiple* options: several *agents*, a few *cash buyers*, and of course *fsbo*. We can just collect all those *equations* in a matrix like we did before, and use *linear algebra* to calculate the *profit vector* like so:\n",
    "\n",
    "$$\n",
    "\\boldsymbol{P} = \\boldsymbol{S} \\cdot \\boldsymbol{C}\n",
    "$$\n",
    "\n",
    "Where $\\mathbf{C}$ represents the *cost matrix* with $x_i$ and $y_i$ variables representing the *commission/discount percent* and *closing costs* respectively:\n",
    "\n",
    "$$\n",
    "\\mathbf{C} =\n",
    "\\begin{bmatrix} \n",
    "1 -x_1 -y_1 \\\\\n",
    "1 -x_2 -y_2 \\\\\n",
    "1 -x_3 -y_3 \\\\\n",
    "1 -x_4 -y_4 \\\\\n",
    "\\vdots\n",
    "\\end{bmatrix}\n",
    "$$\n",
    "\n",
    "\n",
    "and $\\mathbf{S}$ is the *diagonal matrix* representing the different *selling prices* that the property will be sold for (as opposed to $C_m$ which is just the *market value* of the property):\n",
    "\n",
    "$$\n",
    "\\mathbf{S} =\n",
    "\\begin{bmatrix} \n",
    "s_1 & 0 & 0 & 0 & \\cdots \\\\\n",
    "0 & s_2 & 0 & 0 & \\cdots \\\\\n",
    "0 & 0 & s_3 & 0 & \\cdots \\\\\n",
    "0 & 0 & 0 & s_4 & \\cdots \\\\\n",
    "\\vdots & \\vdots & \\vdots & \\vdots & \\ddots\n",
    "\\end{bmatrix}\n",
    "$$\n",
    "\n",
    "Put it all together and you have:\n",
    "\n",
    "$$\n",
    "\\begin{align*}\n",
    "    \\begin{bmatrix} \n",
    "    p_1 \\\\\n",
    "    p_2 \\\\\n",
    "    p_3 \\\\\n",
    "    p_4 \\\\\n",
    "    \\vdots\n",
    "    \\end{bmatrix} &=\n",
    "    \\begin{bmatrix} \n",
    "    s_1 & 0 & 0 & 0 & \\cdots \\\\\n",
    "    0 & s_2 & 0 & 0 & \\cdots \\\\\n",
    "    0 & 0 & s_3 & 0 & \\cdots \\\\\n",
    "    0 & 0 & 0 & s_4 & \\cdots \\\\\n",
    "    \\vdots & \\vdots & \\vdots & \\vdots & \\ddots\n",
    "    \\end{bmatrix}\n",
    "    \\cdot\n",
    "    \\begin{bmatrix} \n",
    "    1 -x_1 -y_1 \\\\\n",
    "    1 -x_2 -y_2 \\\\\n",
    "    1 -x_3 -y_3 \\\\\n",
    "    1 -x_4 -y_4 \\\\\n",
    "    \\vdots\n",
    "    \\end{bmatrix} \\\\\n",
    "    &=\n",
    "     \\begin{bmatrix} \n",
    "    s_1 & -s_1 x_1 & -s_1 y_1 & \\cdots \\\\\n",
    "    s_2 & -s_2 x_2 & -s_2 y_2 & \\cdots \\\\\n",
    "    s_3 & -s_3 x_3 & -s_3 y_3 & \\cdots \\\\\n",
    "    s_4 & -s_4 x_4 & -s_4 y_4 & \\cdots \\\\\n",
    "    \\vdots & \\vdots & \\vdots & \\ddots\n",
    "    \\end{bmatrix}\n",
    "\\end{align*}\n",
    "$$"
   ]
  },
  {
   "cell_type": "markdown",
   "id": "863e955f-5733-4069-aa25-08422a3bf40d",
   "metadata": {},
   "source": [
    "## Profit Maximizing Example\n",
    "To illustrate this method more clearly, we are going to generate some fake data, apply some linear algebra, and find the best (i.e. **maximum**) profit. First we must generate some fake data to populate the *cost matrix* $\\mathbf{C}$:"
   ]
  },
  {
   "cell_type": "code",
   "execution_count": null,
   "id": "7c7e9cc7-7ef3-419c-ad42-8c226216457f",
   "metadata": {
    "editable": true,
    "execution": {
     "iopub.execute_input": "2025-03-08T15:50:29.090579Z",
     "iopub.status.busy": "2025-03-08T15:50:29.090098Z",
     "iopub.status.idle": "2025-03-08T15:50:29.186111Z",
     "shell.execute_reply": "2025-03-08T15:50:29.185324Z"
    },
    "slideshow": {
     "slide_type": ""
    },
    "tags": [
     "remove_input"
    ]
   },
   "outputs": [],
   "source": [
    "import numpy as np\n",
    "\n",
    "# generate random commission data\n",
    "np.random.seed(42)\n",
    "commissions_agent = np.random.uniform(0.03, 0.06, (10, 1))  # Agent commission: 3% to 6%\n",
    "commissions_fsbo = np.random.uniform(0.03, 0.05, (1, 1))  # FSBO buyer agent commission: 3% to 5%\n",
    "discounts_cash = np.random.uniform(0.1, 0.3, (4, 1))  # Cash buyer discount: 10% to 30%\n",
    "\n",
    "# vector storing the commission/discount values\n",
    "commission_vector = np.vstack((\n",
    "    commissions_agent,\n",
    "    commissions_fsbo,\n",
    "    discounts_cash,\n",
    "))\n",
    "\n",
    "# generate closing cost data\n",
    "closing_costs_vector = np.random.uniform(0.015, 0.03, (commission_vector.size, 1))\n",
    "\n",
    "# generate ones vector\n",
    "ones_vector = np.ones_like(closing_costs_vector)\n",
    "\n",
    "# assemble cost matrix\n",
    "cost_matrix = np.hstack((\n",
    "    ones_vector,\n",
    "    -1 * commission_vector,\n",
    "    -1 * closing_costs_vector,\n",
    "))"
   ]
  },
  {
   "cell_type": "code",
   "execution_count": null,
   "id": "c176ebd6-ef1b-44b2-8f98-d8f8f3561d44",
   "metadata": {
    "editable": true,
    "execution": {
     "iopub.execute_input": "2025-03-08T15:50:29.190248Z",
     "iopub.status.busy": "2025-03-08T15:50:29.189878Z",
     "iopub.status.idle": "2025-03-08T15:50:29.198332Z",
     "shell.execute_reply": "2025-03-08T15:50:29.197639Z"
    },
    "slideshow": {
     "slide_type": ""
    },
    "tags": [
     "remove_input"
    ]
   },
   "outputs": [],
   "source": [
    "# create row labels\n",
    "row_labels = ([\"agent\"] * 10) + ([\"fsbo\"] * 1) + ([\"cash\"] * 4)\n",
    "\n",
    "# loop and print\n",
    "for row, label in zip(cost_matrix, row_labels):\n",
    "    print(f\"{row[0]:.3f} {row[1]:.3f} {row[2]:.3f} {label:>5}\")"
   ]
  },
  {
   "cell_type": "markdown",
   "id": "385137bb-3012-4504-99d5-f14f8a628519",
   "metadata": {},
   "source": [
    "Then create some more *fake data* to populate the *sales price matrix* $\\mathbf{S}$ (based on the Q2 2024 *median US house price* of $\\textdollar361,282$):"
   ]
  },
  {
   "cell_type": "code",
   "execution_count": null,
   "id": "4920273b-c929-4f90-b95e-143ddc564cce",
   "metadata": {
    "editable": true,
    "execution": {
     "iopub.execute_input": "2025-03-08T15:50:29.202078Z",
     "iopub.status.busy": "2025-03-08T15:50:29.201498Z",
     "iopub.status.idle": "2025-03-08T15:50:29.207937Z",
     "shell.execute_reply": "2025-03-08T15:50:29.207229Z"
    },
    "slideshow": {
     "slide_type": ""
    },
    "tags": [
     "remove_input"
    ]
   },
   "outputs": [],
   "source": [
    "# the median US housing price circa Q2 2024\n",
    "market_value = 361282\n",
    "\n",
    "# set the deviation\n",
    "deviation_range = 50000\n",
    "\n",
    "# create sales price vector\n",
    "sales_vector = market_value + np.random.uniform(\n",
    "    -deviation_range, \n",
    "    deviation_range,\n",
    "    commission_vector.size,\n",
    ")\n",
    "\n",
    "# create diagonal sales matrix\n",
    "sales_matrix = np.diag(sales_vector)"
   ]
  },
  {
   "cell_type": "code",
   "execution_count": null,
   "id": "9a2028c7-5973-477e-9b88-d024410cfa27",
   "metadata": {
    "editable": true,
    "execution": {
     "iopub.execute_input": "2025-03-08T15:50:29.210705Z",
     "iopub.status.busy": "2025-03-08T15:50:29.210386Z",
     "iopub.status.idle": "2025-03-08T15:50:29.213601Z",
     "shell.execute_reply": "2025-03-08T15:50:29.213239Z"
    },
    "slideshow": {
     "slide_type": ""
    },
    "tags": [
     "remove_input"
    ]
   },
   "outputs": [],
   "source": [
    "# loop and print\n",
    "for row in sales_matrix:\n",
    "    # create row string\n",
    "    row_string = \" \".join([f\"{element:.0f}\" for element in row])\n",
    "\n",
    "    # and print\n",
    "    print(row_string)"
   ]
  },
  {
   "cell_type": "code",
   "execution_count": null,
   "id": "862eac52-2647-467a-ad54-8961d6a2ca02",
   "metadata": {
    "editable": true,
    "execution": {
     "iopub.execute_input": "2025-03-08T15:50:29.216207Z",
     "iopub.status.busy": "2025-03-08T15:50:29.216062Z",
     "iopub.status.idle": "2025-03-08T15:50:29.218755Z",
     "shell.execute_reply": "2025-03-08T15:50:29.218243Z"
    },
    "slideshow": {
     "slide_type": ""
    },
    "tags": [
     "remove_input"
    ]
   },
   "outputs": [],
   "source": [
    "# create profit vector\n",
    "profit_vector = sales_matrix @ np.sum(cost_matrix, axis=1)\n",
    "\n",
    "# find the maximum profit for each data set and the corresponding option\n",
    "max_profits = np.max(profit_vector, axis=0)\n",
    "max_profit_indices = np.argmax(profit_vector, axis=0)"
   ]
  },
  {
   "cell_type": "markdown",
   "id": "83543775-d08b-4956-81a7-e5403e590e30",
   "metadata": {},
   "source": [
    "Now calculate the *profit vector* $\\mathbf{P}$:"
   ]
  },
  {
   "cell_type": "code",
   "execution_count": null,
   "id": "a8a43060-1d81-4c85-a1e9-8567537f4264",
   "metadata": {
    "editable": true,
    "execution": {
     "iopub.execute_input": "2025-03-08T15:50:29.221327Z",
     "iopub.status.busy": "2025-03-08T15:50:29.221150Z",
     "iopub.status.idle": "2025-03-08T15:50:29.224060Z",
     "shell.execute_reply": "2025-03-08T15:50:29.223556Z"
    },
    "slideshow": {
     "slide_type": ""
    },
    "tags": [
     "remove_input"
    ]
   },
   "outputs": [],
   "source": [
    "# loop and print\n",
    "for p, label in zip(profit_vector, row_labels):\n",
    "    print(f\"${p:,.0f} {label:>5}\")"
   ]
  },
  {
   "cell_type": "markdown",
   "id": "aadc8fbe-2b14-4455-93ac-7d7033b9c3e4",
   "metadata": {},
   "source": [
    "The *maximum profit* possible from the above *profit vector* $\\mathbf{P}$:"
   ]
  },
  {
   "cell_type": "code",
   "execution_count": null,
   "id": "928b3a3d-bd7c-42d9-82c7-52175b359360",
   "metadata": {
    "editable": true,
    "execution": {
     "iopub.execute_input": "2025-03-08T15:50:29.226100Z",
     "iopub.status.busy": "2025-03-08T15:50:29.225915Z",
     "iopub.status.idle": "2025-03-08T15:50:29.229531Z",
     "shell.execute_reply": "2025-03-08T15:50:29.229095Z"
    },
    "slideshow": {
     "slide_type": ""
    },
    "tags": [
     "remove_input"
    ]
   },
   "outputs": [],
   "source": [
    "# get max profit index\n",
    "idx = max_profit_indices\n",
    "\n",
    "# get total cost\n",
    "total_costs = sales_vector[idx] * (1 - np.sum(cost_matrix[idx]))\n",
    "\n",
    "# print all data\n",
    "print(f\"Max Profit:{' ':<2}${max_profits:,.0f}\")\n",
    "print(f\"Sales Price:{' ':<1}${sales_vector[idx]:,.0f}\")\n",
    "print(f\"Total Costs:{' ':<1}${total_costs:,.0f}\")\n",
    "print(f\"Commission:{' ':<2}{-100 * cost_matrix[idx][1]:.4f}%\")\n",
    "print(f\"Option Type:{' ':<1}{row_labels[idx]}\")"
   ]
  },
  {
   "cell_type": "markdown",
   "id": "2ac29077-382f-493e-9530-071866241336",
   "metadata": {},
   "source": [
    "## Moral\n",
    "What the above calculations really show, is that regardless of what is the *commission* or *closing costs* involved in the sales options selected for selling your property, it is the *profit* that is the important number (in this calculation). Whatever option you choose, regardless of what *commission* or *discount* the *agent* or *cash buyer* wants, as long as the *sales price* is high enough it may be *favorable*. An *agent* with a higher commission, but also a significantly higher *sales price* (assuming they can indeed find a buyer for that price), could very well be *more profitable* than a agent at a lower commission (and also a lower sales price). Of course, in the actual *decision process* there are more things to consider than just *\"profit\"* (e.g. *time*, *complexity*, *reputation*, etc). But at as a *first approach* the method outlined can be used to *initially filter* the options for selling your property."
   ]
  }
 ],
 "metadata": {
  "kernelspec": {
   "display_name": "Python 3 (ipykernel)",
   "language": "python",
   "name": "python3"
  },
  "language_info": {
   "codemirror_mode": {
    "name": "ipython",
    "version": 3
   },
   "file_extension": ".py",
   "mimetype": "text/x-python",
   "name": "python",
   "nbconvert_exporter": "python",
   "pygments_lexer": "ipython3",
   "version": "3.11.8"
  }
 },
 "nbformat": 4,
 "nbformat_minor": 5
}
