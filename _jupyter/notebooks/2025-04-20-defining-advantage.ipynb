{
 "cells": [
  {
   "cell_type": "raw",
   "id": "2d84c64f-4864-488b-b9e5-0733feece773",
   "metadata": {},
   "source": [
    "---\n",
    "layout: article\n",
    "title: Defining Advantage\n",
    "custom_css: article.css\n",
    "include_mathjax: true\n",
    "---"
   ]
  },
  {
   "cell_type": "markdown",
   "id": "d3f93788-16ad-486a-9427-72cdc8b9f034",
   "metadata": {},
   "source": [
    "## Introduction\n",
    "*Advantage* is one of those *concepts* that is both very familiar to the average person, yet seemingly *absent* any attempts to *quantitatively* define it. We all roughly know when we are in a *\"more advantageous\"* position, but struggle to define exactly *\"why\"* our position is more advantageous (relative to the previous position). In this article, we will attempt to define *mathematically* what is **advantage**."
   ]
  },
  {
   "cell_type": "markdown",
   "id": "b3d3ff52-fd8d-43af-9811-5d6e227c4cf2",
   "metadata": {},
   "source": [
    "## Utility Difference\n",
    "In its simplest form, **advantage** is the *positive difference* in utility $U$ between a currently selected *option* $O_A$ and some *alternate option* $O_B$:\n",
    "\n",
    "+ Option A has a utility of $U(O_A) = 200$\n",
    "+ Option B has a utility of $U(O_B) = 150$\n",
    "+ Option A has a **net advantage** of $U(O_A) - U(O_B) = 50$ utility units over Option B.\n",
    "\n",
    "Conversely, a **disadvantage** occurs when the currently selected option is *worse* than an alternative. In this case, the difference in utility is negative:\n",
    "\n",
    "+ Option A has a utility of $U(O_A) = 100$\n",
    "+ Option C has a utility of $U(O_C) = 300$\n",
    "+ Option A has a **net disadvantage** of $U(O_A) - U(O_C) = -200$ utility units compared to Option C.\n",
    "\n",
    "This of course assumes that the options being compared are of the same *option type*. What that means is they come from the same *utility function* (i.e. all [travel options](https://diogenesanalytics.com/blog/2025/03/12/the-travel-problem) calculated from the *travel utility* function)."
   ]
  },
  {
   "cell_type": "markdown",
   "id": "fc4162eb-d905-4fd8-8bba-527509c01de8",
   "metadata": {},
   "source": [
    "## Multiple Option Types\n",
    "If you want to calculate advantage between *different types* of options — such as travel plans, investment decisions, and health strategies simultaneously — you are no longer dealing with a single utility function. Instead, you can think in terms of a **utility vector** that aggregates different utility dimensions:\n",
    "\n",
    "$$\n",
    "\\vec{V}_{u1} = \\begin{bmatrix}\n",
    "U_{\\text{travel}}(O_A) \\\\\n",
    "U_{\\text{finance}}(O_B) \\\\\n",
    "U_{\\text{health}}(O_C)\n",
    "\\end{bmatrix}\n",
    "$$\n",
    "\n",
    "Here, $\\vec{V}_{u1}$ represents the multi-dimensional utility vector associated with a particular decision set, where each component corresponds to a different utility function (or domain).\n",
    "\n",
    "To compare two such options across multiple dimensions, we can compute the **vector difference**:\n",
    "\n",
    "$$\n",
    "\\Delta \\vec{V} = \\vec{V}_{u1} - \\vec{V}_{u2}\n",
    "$$\n",
    "\n",
    "The resulting vector describes the *direction and magnitude* of advantage (or disadvantage) across each domain. You can also compute a **scalar advantage** by taking the dot product with a weighting vector $\\vec{w}$ representing the relative importance of each domain:\n",
    "\n",
    "$$\n",
    "A = \\vec{w} \\cdot \\Delta \\vec{V}\n",
    "$$\n",
    "\n",
    "This scalar $A$ gives you an overall weighted advantage, suitable for decision-making when utility components span different types."
   ]
  },
  {
   "cell_type": "markdown",
   "id": "2b1202bd-2867-4870-bdf9-7ada1948c23f",
   "metadata": {},
   "source": [
    "## Game Position\n",
    "This *mathematical* definition of advantage naturally extends to the context of games, especially competitive ones. In such settings, we can define a concept we will call **position advantage**: the relative utility of a player's current game state compared to alternate possible states.\n",
    "\n",
    "In other words, a game position has **advantage** if, from a strategic or probabilistic perspective, it leads to higher expected utility (e.g. winning the game, gaining points, achieving a goal) than some other position. Conversely, a **disadvantageous** position is one from which fewer favorable outcomes are accessible or more constraints are imposed.\n",
    "\n",
    "This connects tightly to ideas in:\n",
    "\n",
    "* **Game theory**, where utility is tied to payoff matrices and strategic dominance\n",
    "* **Chess/Go/board games**, where evaluation functions assign heuristic values to positions\n",
    "* **AI planning**, where state-space search evaluates the \"goodness\" of a state\n",
    "\n",
    "We can formalize this idea using expected utility over possible outcomes from a position, denoted $P$:\n",
    "\n",
    "$$\n",
    "\\text{Advantage}(P) = \\mathbb{E}[U \\mid P] - \\mathbb{E}[U \\mid P_{\\text{baseline}}]\n",
    "$$\n",
    "\n",
    "Where:\n",
    "\n",
    "* $\\mathbb{E}[U \\mid P]$ is the expected utility from current position $P$\n",
    "* $P_{\\text{baseline}}$ could be a prior position, an opponent's position, or a neutral reference state\n",
    "\n",
    "This definition makes clear: **advantage is not about winning outright**, but about *increasing the expected value* of outcomes from your current position, relative to some reference."
   ]
  },
  {
   "cell_type": "markdown",
   "id": "fcc68b6f-e74d-4533-a080-835782301151",
   "metadata": {},
   "source": [
    "## Moral\n",
    "Regardless of what is the *utility function* used to calculate the various *options* available (or in a game what we might call *positions*) **advantage** (or **disadvantage**) is merely the *difference* between the *options* / *positions*. The whole of *decision making* and *game theory* can ultimately be reduced down to determining which *option(s)* / *position(s)* relative to my current *option* / *position* *maximize* the *positive utility difference*."
   ]
  }
 ],
 "metadata": {
  "kernelspec": {
   "display_name": "Python 3 (ipykernel)",
   "language": "python",
   "name": "python3"
  },
  "language_info": {
   "codemirror_mode": {
    "name": "ipython",
    "version": 3
   },
   "file_extension": ".py",
   "mimetype": "text/x-python",
   "name": "python",
   "nbconvert_exporter": "python",
   "pygments_lexer": "ipython3",
   "version": "3.11.8"
  }
 },
 "nbformat": 4,
 "nbformat_minor": 5
}
