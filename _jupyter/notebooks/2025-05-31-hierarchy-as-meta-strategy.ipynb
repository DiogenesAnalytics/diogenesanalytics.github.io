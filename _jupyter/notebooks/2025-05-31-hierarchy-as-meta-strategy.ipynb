{
 "cells": [
  {
   "cell_type": "raw",
   "id": "c0c44d95-d386-42fb-af62-a2da23a40eeb",
   "metadata": {},
   "source": [
    "---\n",
    "layout: article\n",
    "title: From Hierarchy to Policy - Constraining the Strategy Space\n",
    "custom_css: article.css\n",
    "include_mathjax: true\n",
    "---"
   ]
  },
  {
   "cell_type": "markdown",
   "id": "dc65407b-5824-4455-9bed-79001c56373b",
   "metadata": {},
   "source": [
    "## Introduction\n",
    "In our [previous article](https://diogenesanalytics.com/blog/2025/05/28/hierarchies-defined), we defined hierarchies not as systems of control, but as structures of access: threshold-based systems that expand your set of possible actions, tools, or states of being. Each level unlocks new options, not by removing constraints from the world, but by transforming you.\n",
    "\n",
    "But now we ask a deeper question: What do hierarchies actually do in practice? How do they operate once defined?\n",
    "\n",
    "This article explores the function of hierarchies in decision-making and strategy. We argue that a hierarchy, once adopted, behaves as a **meta-strategy**: a higher-order constraint that shapes the space of all possible strategies, filtering them down to those that align with the structure of access imposed by the hierarchy. In doing so, hierarchies do not just open new options, they also guide how you move through them."
   ]
  },
  {
   "cell_type": "markdown",
   "id": "e8570bec-8128-4f13-a6e2-2144ae9d582b",
   "metadata": {},
   "source": [
    "## Meta-Strategy\n",
    "Before diving into the role of hierarchies, we need to clarify what we mean by a **meta-strategy**.\n",
    "\n",
    "Let $\\Pi$ denote the full **strategy space** — the set of all possible strategies an agent might take. A **meta-strategy** $M$ is any higher-order function or constraint that acts on $\\Pi$ to produce a subset of *valid*, *permissible*, or *desirable* strategies:\n",
    "\n",
    "$$\n",
    "M: \\Pi \\to \\mathcal{P}(\\Pi), \\quad \\pi \\mapsto M(\\pi)\n",
    "$$\n",
    "\n",
    "But more intuitively, we can describe a meta-strategy as a **filter** over the strategy space. It defines a subset:\n",
    "\n",
    "$$\n",
    "\\Pi_M = M(\\Pi) \\subseteq \\Pi\n",
    "$$\n",
    "\n",
    "This notion shows up in AI literature under various names — for example, in **meta-reinforcement learning**, a meta-policy guides the learning of lower-level policies. In **hierarchical RL**, meta-policies choose among sub-policies. Across these contexts, the unifying idea is that a meta-strategy doesn’t act directly — it **constrains** or **guides** the space of direct action."
   ]
  },
  {
   "cell_type": "markdown",
   "id": "f519da5f-1b8e-4c5c-b93e-ce1077049314",
   "metadata": {},
   "source": [
    "## Function of Hierarchies\n",
    "Now, let’s bring this back to hierarchies.\n",
    "\n",
    "In our earlier article, we defined a **hierarchy** $H$ as a formal structure — a tree or nested partial order. That definition remains unchanged.\n",
    "\n",
    "What we focus on now is how a hierarchy **functions** when applied in practice.\n",
    "\n",
    "When an agent adopts a hierarchy $H$, that hierarchy becomes a **meta-strategy** $M_H$. It filters the space of all possible strategies $\\Pi$, selecting only those strategies $\\pi$ that conform to the hierarchical structure — that is, those that respect the prioritization, sequencing, or structural constraints implied by $H$:\n",
    "\n",
    "$$\n",
    "\\Pi_H = M_H(\\Pi) = \\{ \\pi \\in \\Pi \\mid \\pi \\text{ conforms to } H \\}\n",
    "$$\n",
    "\n",
    "This is not a redefinition of what a hierarchy *is* — it’s a recognition of what it *does* when enforced.\n",
    "\n",
    "> **A hierarchy applied becomes a meta-strategy.**\n",
    "\n",
    "This mirrors concepts in software engineering as well: just as an **abstract class** defines required methods that subclasses must implement (while leaving room for freedom), a hierarchy defines a *framework* for strategies — the “skeleton” they must follow — while allowing differences in detail, execution, or domain."
   ]
  },
  {
   "cell_type": "markdown",
   "id": "453e3f64-4686-417e-897e-58de571405c9",
   "metadata": {},
   "source": [
    "## Moral\n",
    "The key takeaway is this: **hierarchies constrain the strategy space**. They do so not directly, but by acting as **meta-strategies** — higher-level filters that select from the total space $\\Pi$ the subset $\\Pi_H$ that adheres to their structure.\n",
    "\n",
    "This insight provides a new lens for understanding hierarchical organization — not just as a static structure, but as an active *strategic force*. Whenever a hierarchy is followed, it doesn’t merely reflect preferences or authority — it **shapes what is possible**."
   ]
  }
 ],
 "metadata": {
  "kernelspec": {
   "display_name": "Python 3 (ipykernel)",
   "language": "python",
   "name": "python3"
  },
  "language_info": {
   "codemirror_mode": {
    "name": "ipython",
    "version": 3
   },
   "file_extension": ".py",
   "mimetype": "text/x-python",
   "name": "python",
   "nbconvert_exporter": "python",
   "pygments_lexer": "ipython3",
   "version": "3.11.8"
  }
 },
 "nbformat": 4,
 "nbformat_minor": 5
}
