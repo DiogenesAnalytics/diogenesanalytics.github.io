{
 "cells": [
  {
   "cell_type": "raw",
   "id": "2ea2829a-24a9-4d3f-bd07-0d9ad73f2d16",
   "metadata": {},
   "source": [
    "---\n",
    "layout: article\n",
    "title: The Meta-Strategy of Eliminating Risk\n",
    "custom_css: article.css\n",
    "include_mathjax: true\n",
    "---"
   ]
  },
  {
   "cell_type": "markdown",
   "id": "fed8bddb-72b9-472e-8403-8b348b427783",
   "metadata": {},
   "source": [
    "## Introduction\n",
    "When outcomes are uncertain, simply choosing the option with the highest expected reward is rarely enough. Real-world decisions must account for **risk** — the variance, volatility, or unpredictability that surrounds those expected returns. Once risk enters the equation, everything changes.\n",
    "\n",
    "This article explores a striking mathematical fact:\n",
    "\n",
    "> Any utility function that penalizes variance will naturally converge on a strategy that is not a single option, but a portfolio — a distribution over multiple options.\n",
    "\n",
    "In other words, **risk-aware optimization doesn’t lead to decisions; it leads to distributions**. The optimal solution is no longer a point on a line, but a **vector in a strategy space** — a meta-strategy that blends actions in precise proportions to reduce uncertainty while preserving reward.\n",
    "\n",
    "This is not just a theoretical artifact. It emerges in:\n",
    "\n",
    "* **Finance**, where diversified portfolios reduce exposure without sacrificing return.\n",
    "* **Evolution**, where organisms hedge bets across environmental niches.\n",
    "* **Physics**, where repeated NMR scans reveal faint signals by averaging out noise.\n",
    "* **Machine learning**, where ensemble models stabilize predictions.\n",
    "\n",
    "Underneath it all is a shared structure: a utility function that **values predictability as much as performance**, and thus rewards strategies that exploit the **Law of Large Numbers** to suppress variance.\n",
    "\n",
    "As we’ll see, the path to minimizing risk doesn’t just reward multiple options — it **requires** them. And in doing so, it transforms strategy from scalar to vector, from singular to distributed, from decision to design."
   ]
  },
  {
   "cell_type": "markdown",
   "id": "7a030f54-c02a-46f2-b02d-dd96fb54540f",
   "metadata": {},
   "source": [
    "## Utility Functions and the Cost of Variance\n",
    "In many decision-making scenarios, selecting the option with the highest expected return is insufficient. Real-world decisions often involve uncertainty, and strategies must be evaluated not just by their average payoff but also by their risk — the variability in their outcomes. To capture this, we consider a broad class of utility functions that explicitly penalize variance.\n",
    "\n",
    "A common form is:\n",
    "\n",
    "$$\n",
    "U(x) = \\mathbb{E}[R(x)] - \\lambda \\cdot \\text{Var}(R(x))\n",
    "$$\n",
    "\n",
    "where $R(x)$ is the random return from strategy $x$, and $\\lambda > 0$ is a risk-aversion parameter. This form is foundational in finance, especially in mean-variance portfolio theory, and appears in decision theory and control systems as well.\n",
    "\n",
    "An alternative formulation scales expected reward by volatility:\n",
    "\n",
    "$$\n",
    "U(x) = \\frac{\\mathbb{E}[R(x)]}{\\sigma[R(x)]^\\alpha}\n",
    "$$\n",
    "\n",
    "This is closely related to the Sharpe ratio when $\\alpha = 1$, and emphasizes the trade-off between reward and consistency. Both formulations capture a core idea: strategies with more predictable outcomes are preferred, even if their expected value is lower.\n",
    "\n",
    "To see the implications of this, suppose we are choosing between two independent options:\n",
    "\n",
    "* **Option A**: $\\mathbb{E}[R_A] = 10$, $\\sigma_A = 5$\n",
    "* **Option B**: $\\mathbb{E}[R_B] = 8$, $\\sigma_B = 1$\n",
    "\n",
    "With a risk penalty of $\\lambda = 0.5$, we compute their utilities:\n",
    "\n",
    "$$\n",
    "\\begin{align*}\n",
    "U(A) = 10 - 0.5 \\cdot (5)^2 = 10 - 12.5 = -2.5 \\\\\n",
    "U(B) = 8 - 0.5 \\cdot (1)^2 = 8 - 0.5 = 7.5\n",
    "\\end{align*}\n",
    "$$\n",
    "\n",
    "So despite having a lower expected return, Option B is preferred because of its much lower variance. But more interestingly: can we do even better by blending them?\n",
    "\n",
    "Let $\\pi = (\\pi_A, \\pi_B)$ be a mixed strategy where $\\pi_A + \\pi_B = 1$. The expected return of this portfolio is:\n",
    "\n",
    "$$\n",
    "\\mathbb{E}[R_\\pi] = \\pi_A \\cdot \\mathbb{E}[R_A] + \\pi_B \\cdot \\mathbb{E}[R_B]\n",
    "$$\n",
    "\n",
    "Assuming the returns are independent (so covariance is zero), the variance of the portfolio is:\n",
    "\n",
    "$$\n",
    "\\text{Var}(R_\\pi) = \\pi_A^2 \\cdot \\sigma_A^2 + \\pi_B^2 \\cdot \\sigma_B^2\n",
    "$$\n",
    "\n",
    "The utility becomes:\n",
    "\n",
    "$$\n",
    "U(\\pi) = \\mathbb{E}[R_\\pi] - \\lambda \\cdot \\text{Var}(R_\\pi)\n",
    "$$\n",
    "\n",
    "By adjusting the weights $\\pi_A$ and $\\pi_B$, we can find a portfolio that achieves a better utility than either A or B alone. This highlights a fundamental point: **the optimal strategy is not a choice, but a vector — a distribution over multiple options**. This is where scalar thinking breaks down and the logic of diversification emerges.\n",
    "\n",
    "Let us simulate this:"
   ]
  },
  {
   "cell_type": "code",
   "execution_count": null,
   "id": "fd7bbb3d-e15a-4441-9964-588992045551",
   "metadata": {
    "editable": true,
    "slideshow": {
     "slide_type": ""
    },
    "tags": [
     "remove_input"
    ]
   },
   "outputs": [],
   "source": [
    "import numpy as np\n",
    "import matplotlib.pyplot as plt\n",
    "\n",
    "# set initial figure counter to 1\n",
    "fig_count = 1\n",
    "\n",
    "# set the style to a dark theme\n",
    "plt.style.use(\"dark_background\")\n",
    "\n",
    "# match website background\n",
    "plt.rcParams[\"figure.facecolor\"] = \"#181818\"\n",
    "plt.rcParams[\"axes.facecolor\"] = \"#181818\"\n",
    "plt.rcParams[\"axes.edgecolor\"] = \"#181818\"\n",
    "\n",
    "# Parameters for Option A and B\n",
    "mu_A, sigma_A = 10, 5\n",
    "mu_B, sigma_B = 8, 1\n",
    "lambda_risk = 0.5\n",
    "\n",
    "# Range of portfolio weights from 0% A to 100% A\n",
    "weights = np.linspace(0, 1, 100)\n",
    "expected_returns = weights * mu_A + (1 - weights) * mu_B\n",
    "variances = (weights ** 2) * (sigma_A ** 2) + ((1 - weights) ** 2) * (sigma_B ** 2)\n",
    "utilities = expected_returns - lambda_risk * variances\n",
    "\n",
    "# Find the maximum utility point\n",
    "optimal_index = np.argmax(utilities)\n",
    "optimal_weight = weights[optimal_index]\n",
    "optimal_utility = utilities[optimal_index]\n",
    "\n",
    "# Plotting\n",
    "plt.figure(figsize=(8, 5))\n",
    "plt.plot(weights, utilities, label=\"Utility\", color=plt.cm.viridis(0.70))\n",
    "plt.axvline(optimal_weight, color='red', linestyle='--', label=f'Optimal Blend: {optimal_weight:.2f}')\n",
    "\n",
    "# labels\n",
    "plt.xlabel(\"Weight on Option A (1 - B)\")\n",
    "plt.ylabel(\"Utility\")\n",
    "\n",
    "# set title\n",
    "plt.suptitle(\n",
    "    f\"Figure {fig_count}. Utility of Blended Strategies vs. Weight on Option A\", y=0.0001, fontsize=10\n",
    ")\n",
    "\n",
    "# increment fig count\n",
    "fig_count += 1\n",
    "\n",
    "# display\n",
    "plt.legend()\n",
    "plt.tight_layout()\n",
    "plt.show();\n",
    "\n",
    "# increment fig count\n",
    "fig_count += 1"
   ]
  },
  {
   "cell_type": "code",
   "execution_count": null,
   "id": "2fdcd529-1a26-4728-b906-0882dd15eeb0",
   "metadata": {
    "editable": true,
    "slideshow": {
     "slide_type": ""
    },
    "tags": [
     "remove_input"
    ]
   },
   "outputs": [],
   "source": [
    "print(f\"Maximum utility achieved at weight on Option A = {optimal_weight:.2f}, utility = {optimal_utility:.2f}\")"
   ]
  },
  {
   "cell_type": "markdown",
   "id": "902efa23-a879-4314-a248-555f83ef6fc6",
   "metadata": {},
   "source": [
    "This simulation confirms the theory: the highest utility occurs at a **blend** of A and B. \n",
    "Neither pure strategy is optimal. By using a vector of weights — a portfolio — we achieve a better balance between\n",
    "reward and risk.\n",
    "\n",
    "This is not an artifact of our toy example; it is a general principle. Any utility function that penalizes variance will,\n",
    "by necessity, favor distributions over single choices. It is in the geometry of the utility function itself. To reduce \n",
    "variance below the limit of any single option, we must move to a **space of vectors** — a strategy that spans multiple possibilities."
   ]
  }
 ],
 "metadata": {
  "kernelspec": {
   "display_name": "Python 3 (ipykernel)",
   "language": "python",
   "name": "python3"
  },
  "language_info": {
   "codemirror_mode": {
    "name": "ipython",
    "version": 3
   },
   "file_extension": ".py",
   "mimetype": "text/x-python",
   "name": "python",
   "nbconvert_exporter": "python",
   "pygments_lexer": "ipython3",
   "version": "3.11.8"
  }
 },
 "nbformat": 4,
 "nbformat_minor": 5
}
